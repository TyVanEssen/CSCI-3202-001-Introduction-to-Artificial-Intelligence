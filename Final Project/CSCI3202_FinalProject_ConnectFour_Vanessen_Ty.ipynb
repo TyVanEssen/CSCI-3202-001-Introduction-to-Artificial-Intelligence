{
 "cells": [
  {
   "cell_type": "markdown",
   "metadata": {},
   "source": [
    "---\n",
    "\n",
    "# CSCI 3202, Fall 2022\n",
    "# Final Project\n",
    "# Project Due: Thursday December 8, 2022 at 6:00 PM\n",
    "## Proposals Due: Friday November 18, 2022 at 6:00 PM\n"
   ]
  },
  {
   "cell_type": "markdown",
   "metadata": {},
   "source": [
    "You have two options for completing your final project for this course. \n",
    "\n",
    "#### Option 1 ####\n",
    "The first option is presented in this notebook and involves implementing a Connect Four game with AB pruning and A* as player strategies. \n",
    "\n",
    "#### Option 2 ####\n",
    "The second option is to design your own project that includes any of the algorithms we've discussed throughout the semester, or an algorithm that you're interested in learning that we haven't discussed in class. Your project also needs to include some kind of analysis of how it performed on a specific problem. If you're interested in the design your own project option, you need to discuss your idea with one of the course instructors to get approval. If you do a project without getting approval, you will receive a 0 regardless of the quality of the project. \n",
    "\n",
    "**The rules:**\n",
    "\n",
    "1. Choose EITHER the given problem to submit OR choose your own project topic. \n",
    "\n",
    "2. If you choose your own project topic, please adhere to the following guidelines:\n",
    "- Send an email to the course instructors before Friday, November 18 at 6pm, with a paragraph description of your project. We will respond within 24 hours with feedback.\n",
    "- The project can include an algorithm we've discussed throughout the semester or an algorithm that you're been curious to learn. Please don't recycle a project that you did in another class. \n",
    "- If you do your own project without prior approval, you will receive a 0 for this project.\n",
    "- Your project code, explanation, and results must all be contained in a Jupyter notebook. \n",
    "\n",
    "3. All work, code and analysis must be **your own**.\n",
    "4. You may use your course notes, posted lecture slides, textbook, in-class notebooks and homework solutions as resources.  You may also search online for answers to general knowledge questions, like the form of a probability distribution function, or how to perform a particular operation in Python. You may not use entire segments of code as solutions to any part of this project, e.g. if you find a Python implementation of policy iteration online, you can't use it.\n",
    "5. You may **not** post to message boards or other online resources asking for help.\n",
    "6. **You may not collaborate with classmates or anyone else.**\n",
    "7. This is meant to be like a coding portion of an exam. So, we will be much less helpful than we typically are with homework. For example, we will not check answers, help debug your code, and so on.\n",
    "8. If you have a question, post it first as a **private** Piazza message. If we decide that it is appropriate for the entire class, then we will make it a public post (and anonymous).\n",
    "9. If any part of the given project or your personal project is left open-ended, it is because we intend for you to code it up however you want. Our primary concern is with the plots/analysis that your code produces. Feel free to ask clarifying questions though.\n",
    "\n",
    "Violation of these rules will result in an **F** and a trip to the Honor Code council.\n",
    "\n",
    "---\n",
    "**By writing your name below, you agree to abide by these rules:**\n",
    "\n",
    "**Your name:** Ty VanEssen\n",
    "\n",
    "---\n"
   ]
  },
  {
   "cell_type": "markdown",
   "metadata": {},
   "source": [
    "---\n",
    "\n",
    "Some useful packages and libraries:\n",
    "\n"
   ]
  },
  {
   "cell_type": "code",
   "execution_count": 1,
   "metadata": {},
   "outputs": [],
   "source": [
    "import numpy as np\n",
    "import pandas as pd\n",
    "import matplotlib.pyplot as plt\n",
    "from matplotlib import colors\n",
    "from collections import deque\n",
    "import heapq\n",
    "import unittest\n",
    "from scipy import stats\n",
    "import copy as cp\n",
    "from time import time"
   ]
  },
  {
   "cell_type": "markdown",
   "metadata": {},
   "source": [
    "---\n",
    "\n",
    "## Problem 1: Game Theory - Playing \"intelligent\" Connect Four"
   ]
  },
  {
   "cell_type": "markdown",
   "metadata": {},
   "source": [
    "Connect Four is a two-player game where the objective is to get four pieces in a row - horizontally, vertically, or diagonally. Check out this video if you're unfamiliar with the game: https://www.youtube.com/watch?v=utXzIFEVPjA.\n",
    "\n",
    "### (1a)   Defining the Connect Four class structure\n",
    "\n",
    "We've provided the humble beginnings of a Connect Four game. You need to fill in this class structure for Connect Four using what we did during class as a guide, and then implement min-max search with AB pruning, and A* search with at least one heuristic function. The class structure includes the following:\n",
    "\n",
    "* `moves` is a list of columns to represent which moves are available. Recall that we are using matrix notation for this, where the upper-left corner of the board, for example, is represented at (1,1).\n",
    "* `result(self, move, state)` returns a ***hypothetical*** resulting `State` object if `move` is made when the game is in the current `state`. Note that when a 'move' is made, the column must have an open slot and the piece must drop to the lowest row. \n",
    "* `compute_utility(self, move, state)` calculates the utility of `state` that would result if `move` is made when the game is in the current `state`. This is where you want to check to see if anyone has gotten `nwin` in a row\n",
    "* `game_over(self, state)` returns `True` if the game in the given `state` has reached a terminal state, and `False` otherwise.\n",
    "* `utility(self, state, player)` returns the utility of the current state if the player is Red and $-1 \\cdot$ utility if the player is Black.\n",
    "* `display(self)` is a method to display the current game `state`. You get it for free because this would be super frustrating without it.\n",
    "* `play_game(self, player1, player2)` returns an integer that is the utility of the outcome of the game (+1 if Red wins, 0 if draw, -1 if Black wins). `player1` and `player2` are functional arguments that we will deal with in parts **1b** and **1d**.\n",
    "\n",
    "Some notes:\n",
    "* Assume Red always goes first.\n",
    "* Do **not** hard-code for 6x7 boards.\n",
    "* You may add attributes and methods to these classes as needed for this problem."
   ]
  },
  {
   "cell_type": "code",
   "execution_count": 2,
   "metadata": {},
   "outputs": [],
   "source": [
    "\n",
    "from enum import Enum\n",
    "import sys\n",
    "from typing import Callable\n",
    "\n",
    "class Player(Enum):\n",
    "    RED = \"R\"\n",
    "    BLACK = \"B\"\n",
    "    EMPTY = \".\"\n",
    "\n",
    "class State:\n",
    "    def __init__(self, board_dimensions: tuple[int, int], utility: int = 0, board: dict[tuple[int,int], Player] = {}):\n",
    "        self.to_move = Player.RED\n",
    "        self.utility = utility\n",
    "        self.dimensions = board_dimensions\n",
    "        self.board : dict[tuple[int,int], Player] = board\n",
    "        self._moves = None\n",
    "        self._adjacent = None\n",
    "\n",
    "    def moves(self) -> list[tuple[int, int]]:\n",
    "        # Lazy Cache\n",
    "        if (self._moves != None): \n",
    "            return self._moves\n",
    "\n",
    "        available_moves : dict[int, int] = {col: self.dimensions[0] for col in range(1, self.dimensions[1] + 1)}\n",
    "        for taken_row, taken_col in self.board:\n",
    "            if taken_col in available_moves:\n",
    "                next_row = taken_row - 1\n",
    "                if next_row <= 0:\n",
    "                    available_moves.pop(taken_col)\n",
    "                elif next_row < available_moves[taken_col]:\n",
    "                    available_moves[taken_col] = next_row\n",
    "        self._moves = [ (available_moves[col], col) for col in available_moves]\n",
    "        return self._moves\n",
    "\n",
    "\n",
    "    def get_adjacent(self, move: tuple[int,int], n_adjacent: int, search_for: list[Player] = [*Player]) -> list[tuple[list[Player], list[Player]]]:\n",
    "        if Player.EMPTY in search_for and not None in search_for:\n",
    "            search_for.append(None)\n",
    "        check_directions = [\n",
    "            (iter_row, iter_col)\n",
    "            for iter_row in range(-1,2)\n",
    "            for iter_col in range(-1,2)\n",
    "            if (iter_row, iter_col) != (0,0)\n",
    "        ]\n",
    "        surrounding: dict[tuple[int,int], list[Player]] = {\n",
    "            direction: [] for direction in check_directions\n",
    "        }\n",
    "\n",
    "        for levels_out in range(1,n_adjacent):\n",
    "            for direction in check_directions.copy():\n",
    "                check_state = (move[0] + direction[0] * levels_out, move[1] + direction[1] * levels_out)\n",
    "                \n",
    "                if not (check_state[0] in range(1, self.dimensions[0] + 1) and check_state[1] in range(1, self.dimensions[1] + 1)):\n",
    "                    continue\n",
    "\n",
    "                check_state_value : Player | None = self.board.get(check_state)\n",
    "\n",
    "                if check_state_value in search_for:\n",
    "                    value = Player.EMPTY if check_state_value == None else check_state_value\n",
    "                    surrounding[direction].append(value)\n",
    "                else:\n",
    "                    check_directions.remove(direction)\n",
    "        \n",
    "        sequential: list[tuple[list[Player], list[Player]]] = []\n",
    "        directions = list(surrounding.keys())\n",
    "        for direction_idx in range(int(len(directions) / 2)):\n",
    "            f_dir = directions[direction_idx]\n",
    "            b_dir = directions[len(directions) - direction_idx - 1]\n",
    "            sequential.append((surrounding[f_dir], surrounding[b_dir]))\n",
    "        assert len(sequential) == 4\n",
    "        return sequential\n",
    "    \n",
    "    def hash(self):\n",
    "        return \"~\".join([str(e)+ \":\" + str(self.board[e]) for e in self.board])\n",
    "\n",
    "class ConnectFour:\n",
    "    def __init__(self, nrow=6, ncol=7, nwin=4):\n",
    "        self.nrow: int = nrow\n",
    "        self.ncol: int = ncol\n",
    "        self.nwin: int = nwin\n",
    "        self.state = State((nrow, ncol))\n",
    "\n",
    "    def result(self, move: tuple[int,int], state: State) -> State:\n",
    "        '''\n",
    "        What is the hypothetical result of move `move` in state `state` ?\n",
    "        move  = (row, col) tuple where player will put their mark (R or B)\n",
    "        state = a `State` object, to represent whose turn it is and form\n",
    "                the basis for generating a **hypothetical** updated state\n",
    "                that will result from making the given `move`\n",
    "        '''\n",
    "        \n",
    "        # your code goes here...\n",
    "        if not move in state.moves():\n",
    "            raise ValueError('Move {} is not in moves {}'.format(move, state.moves()))\n",
    "        #? Should this be +=\n",
    "        utility = self.compute_utility(move, state)\n",
    "        new_state = State((self.nrow, self.ncol), utility, {**state.board, move: state.to_move})\n",
    "        new_state.to_move = Player.BLACK if state.to_move == Player.RED else Player.RED\n",
    "\n",
    "        return new_state\n",
    "\n",
    "    def compute_utility(self, move: tuple[int,int], state: State) -> int:\n",
    "        '''\n",
    "        What is the utility of making move `move` in state `state`?\n",
    "        If 'R' wins with this move, return 1;\n",
    "        if 'B' wins return -1;\n",
    "        else return 0.\n",
    "        '''        \n",
    "        \n",
    "        # your code goes here...\n",
    "        adjacent = state.get_adjacent(move, self.nwin, [state.to_move])\n",
    "        for angle in adjacent:\n",
    "            sequential = 1\n",
    "            for direction in angle:\n",
    "                for piece in direction:\n",
    "                    if piece == state.to_move:\n",
    "                        sequential += 1\n",
    "                    else:\n",
    "                        break\n",
    "            if sequential >= self.nwin:\n",
    "                return 1 if state.to_move == Player.RED else -1\n",
    "        return 0\n",
    "\n",
    "    def game_over(self, state: State) -> bool:\n",
    "        '''game is over if someone has won (utility!=0) or there\n",
    "        are no more moves left'''\n",
    "\n",
    "        # your code goes here... \n",
    "        return state.utility != 0 or len(state.moves()) == 0\n",
    "\n",
    "    def utility(self, state: State, player: Player) -> int:\n",
    "        '''Return the value to player; 1 for win, -1 for loss, 0 otherwise.'''\n",
    "        # your code goes here...\n",
    "        #? This should be a toggle that allows for multi 4match completes\n",
    "        red_utility: int = -1 if state.utility < 0 else int(state.utility > 0)\n",
    "        return red_utility if player == Player.RED else -1 * red_utility\n",
    "\n",
    "    def display(self, state: State = None) -> None:\n",
    "        board = state.board if state != None else self.state.board\n",
    "\n",
    "        for row in range(1, self.nrow + 1):\n",
    "            for col in range(1, self.ncol + 1):\n",
    "                print(board.get((row, col), Player.EMPTY).value, end=' ')\n",
    "            print()\n",
    "\n",
    "    def play_game(self, player1, player2, verbose: bool = False) -> int:\n",
    "        '''Play a game of Connect Four!'''\n",
    "        \n",
    "        # your code goes here...\n",
    "        player_actors: dict[Player, Callable[ConnectFour, tuple[int,int]]] = {\n",
    "            Player.RED: player1,\n",
    "            Player.BLACK: player2\n",
    "        }\n",
    "\n",
    "        while not self.game_over(self.state):\n",
    "            actor = player_actors[self.state.to_move]\n",
    "            move: tuple[int,int] = actor(self)\n",
    "            new_state = self.result(move, self.state)\n",
    "        \n",
    "            relative_utility = self.utility(new_state, self.state.to_move)\n",
    "\n",
    "            if verbose: print(\"{} places a piece at {}\".format(self.state.to_move.name, move))\n",
    "            if relative_utility != 0 and verbose:\n",
    "                print(\"Player {} Won!\".format(self.state.to_move.name if relative_utility > 0 else new_state.to_move.name))\n",
    "            self.state = new_state\n",
    "            \n",
    "            if verbose: self.display()\n",
    "            sys.stdout.flush()\n",
    "\n",
    "        \n",
    "        return self.utility(self.state, Player.RED)"
   ]
  },
  {
   "cell_type": "markdown",
   "metadata": {},
   "source": [
    "### (1b) Define a random player\n",
    "\n",
    "Define a function `random_player` that takes a single argument of the `ConnectFour` class and returns a random move out of the available legal moves in the `state` of the `ConnectFour` game.\n",
    "\n",
    "In your code for the `play_game` method above, make sure that `random_player` could be a viable input for the `player1` and/or `player2` arguments."
   ]
  },
  {
   "cell_type": "code",
   "execution_count": 3,
   "metadata": {},
   "outputs": [],
   "source": [
    "def random_player(game: ConnectFour) -> tuple[int,int]:\n",
    "    '''A player that chooses a legal move at random out of all\n",
    "    available legal moves in ConnectFour state argument'''\n",
    "    \n",
    "    # your code goes here...\n",
    "    avaliable_moves = game.state.moves()\n",
    "    selected_move : int = np.random.choice(range(len(avaliable_moves)))\n",
    "    return avaliable_moves[selected_move]"
   ]
  },
  {
   "cell_type": "markdown",
   "metadata": {},
   "source": [
    "We know from experience and/or because I'm telling you right now that if two `random_player`s play many games of ConnectFour against one another, whoever goes first will win about 55% of the time.  Verify that this is the case by playing at least 1,000 games between two random players. Report the proportion of the games that the first player has won.**(Chris: is this true for TicTacToe, or Connect Four)**\n",
    "\n",
    "**\"Unit tests\":** If you are wondering how close is close enough to 55%, I simulated 100 tournaments of 1,000 games each. The min-max range of win percentage by the first player was 52-59%."
   ]
  },
  {
   "cell_type": "code",
   "execution_count": 4,
   "metadata": {},
   "outputs": [],
   "source": [
    "# 1000 games between two random players\n",
    "\n",
    "# Your code here\n",
    "def run_games(player1, player2, iterations: int, game_args = (6,7,4), return_games = False):\n",
    "    winners : dict[Player, int] = {p: 0 for p in Player}\n",
    "    games = []\n",
    "    for i in range(iterations):\n",
    "        game = ConnectFour(*game_args)\n",
    "        games.append(game)\n",
    "        game_result = game.play_game(player1, player2)\n",
    "        winner = Player.EMPTY\n",
    "        if game_result < 0:\n",
    "            winner = Player.BLACK\n",
    "        elif game_result > 0:\n",
    "            winner = Player.RED\n",
    "\n",
    "        winners[winner] += 1\n",
    "    print(\"Player {} won {:.4f}% of the time\".format(Player.RED.name, 100 * winners[Player.RED] / iterations))\n",
    "    print(\"Player {} won {:.4f}% of the time\".format(Player.BLACK.name, 100 * winners[Player.BLACK] / iterations))\n",
    "    print(\"Tied {:.4f}% of the time\".format(100 * winners[Player.EMPTY] / iterations))\n",
    "\n",
    "    if return_games:\n",
    "        return games"
   ]
  },
  {
   "cell_type": "code",
   "execution_count": 5,
   "metadata": {},
   "outputs": [
    {
     "name": "stdout",
     "output_type": "stream",
     "text": [
      "Player RED won 54.6000% of the time\n",
      "Player BLACK won 45.2000% of the time\n",
      "Tied 0.2000% of the time\n"
     ]
    }
   ],
   "source": [
    "run_games(random_player, random_player, 1000)"
   ]
  },
  {
   "cell_type": "markdown",
   "metadata": {},
   "source": [
    "### (1c) What about playing randomly on different-sized boards?\n",
    "\n",
    "What does the long-term win percentage appear to be for the first player in a 10x10 ConnectFour tournament, where 4 marks must be connected for a win?  Support your answer using a simulation and printed output, similar to **1b**.\n",
    "\n",
    "**Also:** The win percentage should have changed substantially. Did the decrease in wins turn into more losses for the first player or more draws? Write a few sentences explaining the behavior you observed.  *Hint: think about how the size of the state space has changed.*"
   ]
  },
  {
   "cell_type": "code",
   "execution_count": 6,
   "metadata": {},
   "outputs": [
    {
     "name": "stdout",
     "output_type": "stream",
     "text": [
      "Player RED won 45.7000% of the time\n",
      "Player BLACK won 46.1000% of the time\n",
      "Tied 8.2000% of the time\n"
     ]
    }
   ],
   "source": [
    "# 1000 games between two random players\n",
    "# Your code here\n",
    "#Please also recall that you should be using a 10x10 with nwin as 6 for the 1c analysis. \n",
    "run_games(random_player, random_player, 1000, (10,10,6))"
   ]
  },
  {
   "cell_type": "markdown",
   "metadata": {},
   "source": [
    "The win percent did change significantly with a larger board and nwin value. This seems to be primarirly because the advantage for going first is mostly negated with a much larger state space. There are more moves available to the random player so it is less likely that they will chance on a winning solution. Most of the difference in win rates becomes tied matches between the players. It makes sense to have a high tie percentage since each of these players are acting randomly."
   ]
  },
  {
   "cell_type": "markdown",
   "metadata": {},
   "source": [
    "### (1d) Define an alpha-beta player\n",
    "\n",
    "Alright. Let's finally get serious about our Connect Four game.  No more fooling around!\n",
    "\n",
    "Craft a function called `alphabeta_player` that takes a single argument of a `ConnectFour` class object and returns the minimax move in the `state` of the `ConnectFour` game. As the name implies, this player should be implementing alpha-beta pruning as described in the textbook and lecture.\n",
    "\n",
    "Note that your alpha-beta search for the minimax move should include function definitions for `max_value` and `min_value` (see the aggressively realistic pseudocode from the lecture slides).\n",
    "\n",
    "In your code for the `play_game` method above, make sure that `alphabeta_player` could be a viable input for the `player1` and/or `player2` arguments."
   ]
  },
  {
   "cell_type": "code",
   "execution_count": 7,
   "metadata": {},
   "outputs": [],
   "source": [
    "# Your code here\n",
    "\n",
    "# Regarding the AB Pruning runtime issues, please shrink the game size to a 3x4 board with nwin as 3. This applies to parts 1d, 1e, and the comparison of A* vs AB pruning comparison in part 2b. This should be the only necessary modification to the writeup to alleviate the runtime delays. Make sure that your random_player and A* players work on 6x7 boards with nwin as 4.  \n",
    "from collections import namedtuple\n",
    "\n",
    "nodes_expanded = 0\n",
    "discount_factor = .9\n",
    "UtilityMove = namedtuple(\"UtilityMove\", [\"utility\", \"move\"])\n",
    "\n",
    "def alphabeta_player(game: ConnectFour, report_nodes_expanded = False) -> tuple[int,int]:\n",
    "    global nodes_expanded\n",
    "    nodes_expanded = 0\n",
    "    utility = alphabeta_value(game, game.state, float(\"-inf\"), float(\"inf\"))\n",
    "    if report_nodes_expanded: return nodes_expanded\n",
    "    return utility.move\n",
    "\n",
    "def alphabeta_value(game: ConnectFour, state: State, alpha: int, beta: int) -> UtilityMove:\n",
    "    global nodes_expanded\n",
    "    nodes_expanded += 1\n",
    "    if game.game_over(state):\n",
    "        return UtilityMove(state.utility, None)\n",
    "\n",
    "    beta_pointer, alpha_pointer = [beta], [alpha]\n",
    "\n",
    "    if state.to_move == Player.RED:\n",
    "        utility = UtilityMove(-np.inf, None)\n",
    "        comparison_fn = max\n",
    "        child_rechable_boundary = alpha_pointer\n",
    "        reachable_bound = beta_pointer\n",
    "        symbol = float.__gt__\n",
    "        # symbol = float.__ge__\n",
    "    else:\n",
    "        utility = UtilityMove(np.inf, None)\n",
    "        comparison_fn = min\n",
    "        child_rechable_boundary = beta_pointer\n",
    "        reachable_bound = alpha_pointer\n",
    "        symbol = float.__lt__\n",
    "        # symbol = float.__le__\n",
    "    \n",
    "    #! Room to mess with the order we evaluate moves, might improve runtime\n",
    "    moves = state.moves()\n",
    "    for move_idx in range(len(moves)):\n",
    "        move = moves[move_idx]\n",
    "\n",
    "        args = (game.result(move, state), alpha_pointer[0], beta_pointer[0])\n",
    "        child_utility, child_move = alphabeta_value(game, *args)\n",
    "        child_utility *= discount_factor\n",
    "        #Dramatically improves performance by selecting for earlier wins\n",
    "\n",
    "        utility = comparison_fn(utility, UtilityMove(child_utility, move))\n",
    "\n",
    "        # Turns out that AB with a >=/<= will prune states that it shouldn't since they would still be winning for the other player evaluating with >/< will ensure that those states are found. The submitted code utilizes the optimal solution I found with >/< bound checking and discount factors.\n",
    "        if symbol(float(utility.utility), float(reachable_bound[0])):\n",
    "            return utility\n",
    "        child_rechable_boundary[0] = comparison_fn(utility.utility, child_rechable_boundary[0])\n",
    "    return utility"
   ]
  },
  {
   "cell_type": "markdown",
   "metadata": {},
   "source": [
    "Verify that your alpha-beta player code is working appropriately through the following tests, using a standard 6x7 ConnectFour board. Run **10 games for each test**, and track the number of wins, draws and losses. Report these results for each case.\n",
    "\n",
    "1. An alpha-beta player who plays first should never lose to a random player who plays second.\n",
    "2. Two alpha-beta players should always draw. One player is the max player and the other player is the min player.\n",
    "\n",
    "**Nota bene:** Test your code with fewer games between the players to start, because the alpha-beta player will require substantially more compute time than the random player.  This is why I only ask for 10 games, which still might take a minute or two. You are welcome to run more than 10 tests if you'd like. "
   ]
  },
  {
   "cell_type": "code",
   "execution_count": 8,
   "metadata": {},
   "outputs": [
    {
     "name": "stdout",
     "output_type": "stream",
     "text": [
      "Alphabeta (RED) vs Random (BLACK)\n",
      "Player RED won 100.0000% of the time\n",
      "Player BLACK won 0.0000% of the time\n",
      "Tied 0.0000% of the time\n",
      "Alphabeta (RED) vs Alphabeta (BLACK)\n",
      "Player RED won 100.0000% of the time\n",
      "Player BLACK won 0.0000% of the time\n",
      "Tied 0.0000% of the time\n",
      "Random (RED) vs Alphabeta (BLACK)\n",
      "Player RED won 40.0000% of the time\n",
      "Player BLACK won 60.0000% of the time\n",
      "Tied 0.0000% of the time\n"
     ]
    }
   ],
   "source": [
    "# Your code here\n",
    "iters = 10\n",
    "print(\"Alphabeta (RED) vs Random (BLACK)\")\n",
    "run_games(alphabeta_player, random_player, iters, (3,4,3))\n",
    "\n",
    "print(\"Alphabeta (RED) vs Alphabeta (BLACK)\")\n",
    "run_games(alphabeta_player, alphabeta_player, iters, (3,4,3))\n",
    "\n",
    "print(\"Random (RED) vs Alphabeta (BLACK)\")\n",
    "run_games(random_player, alphabeta_player, iters, (3,4,3))"
   ]
  },
  {
   "cell_type": "markdown",
   "metadata": {},
   "source": [
    "### (1e) What has pruning ever done for us?\n",
    "\n",
    "Calculate the number of number of states expanded by the minimax algorithm, **with and without pruning**, to determine the minimax decision from the initial 6x7 ConnectFour board state.  This can be done in many ways, but writing out all the states by hand is **not** one of them (as you will find out!).\n",
    "\n",
    "Then compute the percent savings that you get by using alpha-beta pruning. i.e. Compute $\\frac{\\text{Number of nodes expanded with pruning}}{\\text{Number of nodes expanded with minimax}} $\n",
    "\n",
    "Write a sentence or two, commenting on the difference in number of nodes expanded by each search."
   ]
  },
  {
   "cell_type": "code",
   "execution_count": 9,
   "metadata": {},
   "outputs": [
    {
     "data": {
      "text/plain": [
       "12447"
      ]
     },
     "execution_count": 9,
     "metadata": {},
     "output_type": "execute_result"
    }
   ],
   "source": [
    "# Your code here.\n",
    "game = ConnectFour(3,4,3)\n",
    "alphabeta_player(game, True)"
   ]
  },
  {
   "cell_type": "markdown",
   "metadata": {},
   "source": [
    "There are several differently performing versions of pruning, my favorite with the best win percentage is includes a discount factor and doesn't prune on equality. This method expands 11890 states.\n",
    "\n",
    "Here are the states expanded for the versions I have, ranked by their performance winning against random, with the number of states expanded.\n",
    "- Discount, Pruned Equality: 74.8%, 11715\n",
    "- Discount, Not Pruned Equality: 81.6%, 11890\n",
    "- No Discount, Pruned Equality: 48.4%, 1115\n",
    "  - Class code version, notice that this performs the worst but does expand the fewest states.\n",
    "- No Discount, Not Pruned Equality: 60.4%, 95428\n",
    "- No Pruning: 66.4%, 289869\n",
    "\n",
    "Provided Ideal AB-Pruning compared to minimax expands 0.3% of the nodes, my found ideal with Discount factors not pruning on equality expands 4.1% of the nodes. There is a clear relationship between the use of >= / <= or > / < equality for decisions around pruning the AB tree, in the base version this ends up pruning a lot of very similar states since our utilities are only -1,0,1 this version is least performant. By not pruning on eqality we check the brances that may be ties in some cases but still are valid wins for the other player. There also seems to be a direct relationship between the use of discount factors to differentiate between multiple winning solutions, this allows us to prune trees that would lead to a win or loss sooner or earlier, and combined with non-equality pruning gives the best results when random plays first."
   ]
  },
  {
   "cell_type": "markdown",
   "metadata": {},
   "source": [
    "### (2) A* Search\n",
    "\n",
    "In Part II of this project, you need to implement a player strategy to employ A* Search in order to win at ConnectFour. To test your A* player, play 10 games against the random player and 10 games against the AB pruning player. \n",
    "\n",
    "Write an explanation of this strategy's implementation and performance in comparison to the random player and the AB Pruning player from **1d**.\n",
    "\n",
    "A lot of the code that you wrote for the minimax player and the Connect Four game structure can be reused for the A* player. However, you will need to write a new utility function for A* that considers the path cost and heuristic cost.\n"
   ]
  },
  {
   "cell_type": "markdown",
   "metadata": {},
   "source": [
    "### (2a) Define a heuristic function\n",
    "Your A* player will need to use a heuristic function. You have two options for heurstics: research an existing heuristic for Connect Four, or games similar to Connect Four, and use that. Or, design your own heuristic. Write a one-paragraph description of the heuristic you're using, including a citation if you used an existing heuristic."
   ]
  },
  {
   "cell_type": "markdown",
   "metadata": {},
   "source": [
    "For my heuristic function, I chose to take inspiration from the internet, specifically https://roadtolarissa.com/connect-4-ai-how-it-works/, without reading much of the article I saw that it was a process of trying to find optimal moves to set up multiple game pieces in a row. So I decided to leverage the get_adjacent function I added to state objects. We collate the combination patterns (rows / columns / diagonals) and check for where valid moves could be played and see if we could possibly win on that row given the current state. We can then check the number of pieces needed for that win and report that as the heuristic, we do the same for blocks, limiting them to a value so we don't worry about blocking early. "
   ]
  },
  {
   "cell_type": "code",
   "execution_count": 10,
   "metadata": {},
   "outputs": [],
   "source": [
    "#Todo Finish the writing bit https://roadtolarissa.com/connect-4-ai-how-it-works/\n",
    "def heuristic(game: ConnectFour, move: tuple[int,int], state: State) -> float:\n",
    "    other_p = Player.BLACK if state.to_move == Player.RED else Player.RED\n",
    "    self_p = state.to_move\n",
    "\n",
    "    heuristics = []\n",
    "    blocks = [[*front, other_p, *back] for front, back in state.get_adjacent(move, game.nwin, [Player.EMPTY, other_p])]\n",
    "    wins = [[*front, self_p, *back] for front, back in state.get_adjacent(move, game.nwin, [Player.EMPTY, self_p])]\n",
    "    for direction_idx in range(len(wins)):\n",
    "        row_wins = wins[direction_idx]\n",
    "        row_blocks = blocks[direction_idx]\n",
    "\n",
    "        dist_win = game.nwin - row_wins.count(self_p) if len(row_wins) >= game.nwin else np.inf\n",
    "        dist_block = game.nwin - row_blocks.count(other_p) if len(row_blocks) >= game.nwin else np.inf\n",
    "        heuristics.append(min(dist_win, dist_block))\n",
    "\n",
    "    heuristic = min(heuristics)\n",
    "    return heuristic"
   ]
  },
  {
   "cell_type": "code",
   "execution_count": 11,
   "metadata": {},
   "outputs": [],
   "source": [
    "class Frontier_PQ:\n",
    "    ''' frontier class for uniform search, ordered by path cost '''\n",
    "    def __init__(self, start: State, cost = 0) -> None:\n",
    "        self.start : State = start\n",
    "        self.states : dict[str, tuple[int, State, State]] = {start.hash():(cost, start, None)}\n",
    "        self.q : list[tuple[int, str, str]] = [(cost,start.hash(),None)]\n",
    "\n",
    "    def add(self, state: State, cost: int, parent: State):\n",
    "        heapq.heappush(self.q, [cost, state.hash(), parent.hash()])\n",
    "\n",
    "        self.states[state.hash()] = (cost, state, parent)\n",
    "    \n",
    "    def pop(self) -> tuple[int, State, State]:\n",
    "        popped_entry = None\n",
    "        while popped_entry == None:\n",
    "            popped_entry = heapq.heappop(self.q)\n",
    "            if popped_entry[0] == \"REMOVED\":\n",
    "                print(\"FOUND REMOVED\")\n",
    "                popped_entry = None\n",
    "                \n",
    "        return self.states.pop(popped_entry[1])\n",
    "\n",
    "    def replace(self, state: State, new_cost: int, new_parent: State):\n",
    "        previous_cost, old_state, old_parent = self.states.get(state.hash())    \n",
    "\n",
    "        for idx in range(len(self.q)):\n",
    "            old_cost, node, old_parent = self.q[idx]\n",
    "            if node == state.hash():\n",
    "                q_idx = idx\n",
    "                break\n",
    "\n",
    "        tmp_task = self.q.pop(q_idx)\n",
    "        tmp_task[0] = \"REMOVED\"\n",
    "        \n",
    "        heapq.heappush(self.q, [new_cost, state.hash(), new_parent.hash()])\n",
    "        self.states[state.hash()] = (new_cost, state, new_parent)"
   ]
  },
  {
   "cell_type": "code",
   "execution_count": 12,
   "metadata": {},
   "outputs": [],
   "source": [
    "def path(previous: dict[State, State], s): \n",
    "    if s is None:\n",
    "        return []\n",
    "    else:\n",
    "        return path(previous, previous[s])+[s]\n",
    "\n",
    "\n",
    "def a_star(game: ConnectFour, start: State, return_cost = False):\n",
    "    frontier = Frontier_PQ(start)\n",
    "    parent_tree : dict[State, State]= {start: None}\n",
    "    final_state: State = start\n",
    "\n",
    "    while len(frontier.states) != 0:\n",
    "        previous_cost, current, parent = frontier.pop()\n",
    "        parent_tree[current] = parent\n",
    "\n",
    "        if game.game_over(current):\n",
    "            final_state = current\n",
    "            if game.utility(current, start.to_move) > 0:\n",
    "                break\n",
    "\n",
    "            no_chance_parents = [parent_tree[final_state]]\n",
    "            # Stop exploring any branches where they could win in one move from ours.\n",
    "            assert no_chance_parents[0].to_move != start.to_move, no_chance_parents[0].to_move + \" != \" + start.to_move.name\n",
    "            def bad_children(bad_node: State, d = 0):\n",
    "                for key, value in parent_tree.items():\n",
    "                    if value == bad_node:\n",
    "                        no_chance_parents.append(key)\n",
    "                        bad_children(key, d + 1)\n",
    "            bad_children(no_chance_parents[0])\n",
    "            for st in frontier.states:\n",
    "                f_cost, f_state, f_parent = frontier.states[st]\n",
    "                if f_parent in no_chance_parents:\n",
    "                    frontier.replace(f_state, np.inf, f_parent)\n",
    "            continue\n",
    "        \n",
    "        for action in current.moves():\n",
    "            child_state = game.result(action, current)\n",
    "            child_path_cost = len(child_state.board) + heuristic(game, action, current)\n",
    "\n",
    "            if not child_state in list(parent_tree.keys()) and not child_state in frontier.states:\n",
    "                frontier.add(child_state, child_path_cost, current)\n",
    "            elif child_state in frontier.states and frontier.states[child_state] > child_path_cost:\n",
    "                frontier.replace(child_state, child_path_cost, current)\n",
    "\n",
    "    solution_path: list[State] = path(parent_tree, final_state)\n",
    "    solution_cost = len(solution_path)\n",
    "    return (solution_path, solution_cost, len(parent_tree.keys())) if return_cost else solution_path\n",
    "\n",
    "def a_star_player(game: ConnectFour, return_cost = False):\n",
    "    sol_path : list[State]\n",
    "    if return_cost:\n",
    "        sol_path, sol_cost, explored = a_star(game, game.state, True)\n",
    "    else:\n",
    "        sol_path = a_star(game, game.state, False)\n",
    "\n",
    "    for current_action in game.state.moves():\n",
    "        result_state = game.result(current_action, game.state)\n",
    "        if result_state.board == sol_path[1].board: return current_action\n",
    "    return None\n"
   ]
  },
  {
   "cell_type": "code",
   "execution_count": 13,
   "metadata": {},
   "outputs": [
    {
     "name": "stdout",
     "output_type": "stream",
     "text": [
      "RED places a piece at (6, 1)\n",
      ". . . . . . . \n",
      ". . . . . . . \n",
      ". . . . . . . \n",
      ". . . . . . . \n",
      ". . . . . . . \n",
      "R . . . . . . \n",
      "BLACK places a piece at (5, 1)\n",
      ". . . . . . . \n",
      ". . . . . . . \n",
      ". . . . . . . \n",
      ". . . . . . . \n",
      "B . . . . . . \n",
      "R . . . . . . \n",
      "RED places a piece at (6, 2)\n",
      ". . . . . . . \n",
      ". . . . . . . \n",
      ". . . . . . . \n",
      ". . . . . . . \n",
      "B . . . . . . \n",
      "R R . . . . . \n",
      "BLACK places a piece at (4, 1)\n",
      ". . . . . . . \n",
      ". . . . . . . \n",
      ". . . . . . . \n",
      "B . . . . . . \n",
      "B . . . . . . \n",
      "R R . . . . . \n",
      "RED places a piece at (6, 3)\n",
      ". . . . . . . \n",
      ". . . . . . . \n",
      ". . . . . . . \n",
      "B . . . . . . \n",
      "B . . . . . . \n",
      "R R R . . . . \n",
      "BLACK places a piece at (3, 1)\n",
      ". . . . . . . \n",
      ". . . . . . . \n",
      "B . . . . . . \n",
      "B . . . . . . \n",
      "B . . . . . . \n",
      "R R R . . . . \n",
      "RED places a piece at (6, 4)\n",
      "Player RED Won!\n",
      ". . . . . . . \n",
      ". . . . . . . \n",
      "B . . . . . . \n",
      "B . . . . . . \n",
      "B . . . . . . \n",
      "R R R R . . . \n"
     ]
    },
    {
     "data": {
      "text/plain": [
       "1"
      ]
     },
     "execution_count": 13,
     "metadata": {},
     "output_type": "execute_result"
    }
   ],
   "source": [
    "game = ConnectFour(4,5,4)\n",
    "# game = ConnectFour()\n",
    "# game.state = State((3,4), 0, {\n",
    "#     (3,1): Player.RED,\n",
    "#     (2,1): Player.RED,\n",
    "#     (3,2): Player.BLACK,\n",
    "#     (3,4): Player.BLACK\n",
    "# })\n",
    "# game.state.to_move = Player.BLACK\n",
    "game.play_game(a_star_player, a_star_player, True)\n",
    "# game.display()\n",
    "# a = a_star_player(game)\n",
    "# print(\"MOVE\", a)"
   ]
  },
  {
   "cell_type": "markdown",
   "metadata": {},
   "source": [
    "### (2b) Compare A* to other algorithms\n",
    "Next, play 10 games of Connect Four using your A* player and a random player and 10 games against the AB pruning player. In four or five paragraphs, report on the outcome. Did one player win more than the other? How often was the game a draw? How many moves did each player make? Were there situations where one player appeared to do better than the other? Given the outcome, are there other heuristics you would like to implement?"
   ]
  },
  {
   "cell_type": "code",
   "execution_count": 14,
   "metadata": {},
   "outputs": [],
   "source": [
    "# Your code here.\n",
    "def display_avg_moves(games: list[ConnectFour]):\n",
    "    all_moves = {p:0 for p in Player}\n",
    "\n",
    "    for game in games:\n",
    "        game_board = game.state.board\n",
    "        for p in game_board.values():\n",
    "            all_moves[p] += 1\n",
    "\n",
    "    for p in all_moves:\n",
    "        print(\"Player {} made {} moves on average across {} games\".format(\n",
    "            p.name, all_moves[p]/len(games), len(games)\n",
    "        ))"
   ]
  },
  {
   "cell_type": "code",
   "execution_count": 15,
   "metadata": {},
   "outputs": [
    {
     "name": "stdout",
     "output_type": "stream",
     "text": [
      "\tAstar vs Random, 6x7, 4 to win\n",
      "Player RED won 90.0000% of the time\n",
      "Player BLACK won 10.0000% of the time\n",
      "Tied 0.0000% of the time\n",
      "Player RED made 4.9 moves on average across 10 games\n",
      "Player BLACK made 4.0 moves on average across 10 games\n",
      "Player EMPTY made 0.0 moves on average across 10 games\n"
     ]
    }
   ],
   "source": [
    "print(\"\\tAstar vs Random, 6x7, 4 to win\")\n",
    "display_avg_moves(run_games(a_star_player, random_player, 10, return_games=True))"
   ]
  },
  {
   "cell_type": "code",
   "execution_count": 16,
   "metadata": {},
   "outputs": [
    {
     "name": "stdout",
     "output_type": "stream",
     "text": [
      "\tAstar vs Alphabeta, 3x4, 3 to win\n",
      "Player RED won 100.0000% of the time\n",
      "Player BLACK won 0.0000% of the time\n",
      "Tied 0.0000% of the time\n",
      "Player RED made 6.0 moves on average across 10 games\n",
      "Player BLACK made 5.0 moves on average across 10 games\n",
      "Player EMPTY made 0.0 moves on average across 10 games\n"
     ]
    }
   ],
   "source": [
    "print(\"\\tAstar vs Alphabeta, 3x4, 3 to win\")\n",
    "display_avg_moves(run_games(a_star_player, alphabeta_player, 10, (3,4,3), True))"
   ]
  },
  {
   "cell_type": "code",
   "execution_count": 17,
   "metadata": {},
   "outputs": [
    {
     "name": "stdout",
     "output_type": "stream",
     "text": [
      "\tAlphabeta vs Random, 3x4, 3 to win\n",
      "Player RED won 100.0000% of the time\n",
      "Player BLACK won 0.0000% of the time\n",
      "Tied 0.0000% of the time\n",
      "Player RED made 3.4 moves on average across 10 games\n",
      "Player BLACK made 2.4 moves on average across 10 games\n",
      "Player EMPTY made 0.0 moves on average across 10 games\n"
     ]
    }
   ],
   "source": [
    "print(\"\\tAlphabeta vs Random, 3x4, 3 to win\")\n",
    "display_avg_moves(run_games(alphabeta_player, random_player, 10, (3,4,3), True))"
   ]
  },
  {
   "cell_type": "markdown",
   "metadata": {},
   "source": [
    "- Did one player win more than the other?\n",
    "  - The A* player won the most, I put a lot of effort into making it's heuristics strong. In the test cases asked for by this question it will be most performant, I'm not supprised if it wins 100% of the time. AB will also beat out random with quite high frequency, although there will be ties. The A* algorithm is best, followed by AB-Pruning, followed by random. However random notably has a much higher win rate against AB-Pruning and has it's best win rates on smaller game boards. Random players almost never win on a large board.\n",
    "- How often was the game a draw?\n",
    "  - This also depends on the matchup and board size. But generally, the smaller boards and boards with a higher nwin will have a higher tie percentage since the winning states take up less of the total state space. AKA, it's harder to make matches when the board is small since other players can get in your way, and there is more need to do a blocking move. Ideally, A* would find mostly ties against itself, however it is optimizing on the shortness of the game rather than on the winning or not winning. \n",
    "  - A* versus A* should often result in a draw, however both players are optimizing for a short game, and the logic for searching out it's own winnning states could include a better method of assessing when to make a blocking move.\n",
    "- How many moves did each player make? \n",
    "  - On average, these games were over in 5-6 moves when there were somewhat equally skillful opponents, when either AI played against random it was often over in little more than the nwin amount of turns. When we pair A* against AB-Pruning, oftentimes the length of the game is close to filling the entire board. \n",
    "- Were there situations where one player appeared to do better than the other?\n",
    "  - There were a lot of situations where players had a distinct advantage over oneanother:\n",
    "    - Random vs AB-Pruning on a small board, AB-Pruning is generally a very skillful opponent, however it assumes that it's opponent will act rationally. The Random player does anything but that, it manages to only let AB Pruning win ~70% of the time.\n",
    "    - A* vs AB-Pruning, in this case A* will win out almost every time, this is because while AB-Pruning attempts to reason about states it focuses almost entirely on end game positions, however while A* reasons about states, it's looking at the reality of the board and attempting to both make winning moves and blocking moves. It still is gearing towards it's own win, but is also effectively blocking it's opponent.\n",
    "- Given the outcome, are there other heuristics you would like to implement?\n",
    "  - Although I put a lot of effort into tuning the various alorithms, I'd love to spend more time on AB-Pruning and come up with a new method of utility values to differentiate between the non-winning moves better. I think this would help it to find more tied games. I'd also love to spend more time (even though I already spent a lot) on the A* heuristic, currently when it plays against itself it struggles to reason about what the other player will do. My Ideal would be to use an A* framework to find the end states and then implement some sort of pruning on those states. This arises from messing with A* and realizing that while the heuristic guides it towards the end of the game, it doesn't have any ability to reason effectively about the nature of that win."
   ]
  }
 ],
 "metadata": {
  "kernelspec": {
   "display_name": "Python 3.10.6 ('Py3-10-6')",
   "language": "python",
   "name": "python3"
  },
  "language_info": {
   "codemirror_mode": {
    "name": "ipython",
    "version": 3
   },
   "file_extension": ".py",
   "mimetype": "text/x-python",
   "name": "python",
   "nbconvert_exporter": "python",
   "pygments_lexer": "ipython3",
   "version": "3.10.6"
  },
  "vscode": {
   "interpreter": {
    "hash": "d5616e43c43ee80c928987ca29d519f01baef7645fd15069d496d36d12c6a66d"
   }
  }
 },
 "nbformat": 4,
 "nbformat_minor": 4
}
