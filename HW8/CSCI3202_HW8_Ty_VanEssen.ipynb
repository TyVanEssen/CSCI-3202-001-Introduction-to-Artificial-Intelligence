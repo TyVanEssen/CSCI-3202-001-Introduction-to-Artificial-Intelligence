{
 "cells": [
  {
   "cell_type": "markdown",
   "metadata": {},
   "source": [
    "---\n",
    "\n",
    "# CSCI 3202, Fall 2022\n",
    "# Homework 8\n",
    "# Due: Friday November 18, 2022 at 6:00 PM\n",
    "\n",
    "<br> \n",
    "\n",
    "### Your name: Ty VanEssen\n",
    "\n",
    "<br> "
   ]
  },
  {
   "cell_type": "markdown",
   "metadata": {},
   "source": [
    "---\n",
    "\n",
    "Some useful packages and libraries:\n",
    "\n"
   ]
  },
  {
   "cell_type": "code",
   "execution_count": 7,
   "metadata": {},
   "outputs": [],
   "source": [
    "import numpy as np\n",
    "import pandas as pd\n",
    "import matplotlib.pyplot as plt\n",
    "from matplotlib import colors\n",
    "from collections import deque\n",
    "import heapq\n",
    "import unittest\n",
    "from scipy import stats\n",
    "import copy as cp\n",
    "from time import time"
   ]
  },
  {
   "cell_type": "markdown",
   "metadata": {},
   "source": [
    "---\n",
    "\n",
    "## Problem 1: Maximizing an Objective Function with a Genetic Algorithm \n",
    "\n",
    "Suppose we've lost the index card with our favorite cupcake recipe. We know the ingredients of the cake, but cannot remember the exact amount of each ingredient. We decide to use a genetic algorithm to generate the  ingredient amounts. With each iteration of the genetic algorithm, we bake the cupcakes and taste-test them. We achieve our goal and stop running the genetic algorithm when we get to the actual recipe: \n",
    "\n",
    "* 1 tsp salt \n",
    "* 3 tsp baking powder \n",
    "* 2 cups all-purpose flour \n",
    "* 1 cup butter \n",
    "* 1 cup granulated sugar \n",
    "* 4 large eggs\n",
    "* 1 tsp vanilla extract\n",
    "* 1 cup buttermilk "
   ]
  },
  {
   "cell_type": "code",
   "execution_count": 8,
   "metadata": {},
   "outputs": [],
   "source": [
    "target = [1, 3, 2, 1, 1, 4, 1, 1]"
   ]
  },
  {
   "cell_type": "markdown",
   "metadata": {},
   "source": [
    "An example starting state for a member of our population might look like: $state = [1, 2, 100, 36, 60, 3, 5, 50]$, which is equivalent to 1 tsp salt, 2 tsp baking powder, 100 cups of flour, 36 cups of butter, 60 cups of granulated sugar, 3 large eggs, 5 tsp vanilla, and 50 cups of buttermilk.\n",
    "\n",
    "### (1a) \n",
    "\n",
    "Write an objective function `def recipe_success(state)` that takes a single argument state, and returns the objective function value (fitness) of the state. The objective function should be maximized when a state reaches the target. You could for example define the fitness score of a particular state based on how far away each entry is from the target recipe."
   ]
  },
  {
   "cell_type": "code",
   "execution_count": 68,
   "metadata": {},
   "outputs": [],
   "source": [
    "def recipe_success(state):\n",
    "    # Your code here.\n",
    "    scale = 1.6\n",
    "    return 100 * sum(map(lambda s, t: 2 * stats.norm.pdf(s, t, scale) / stats.norm.pdf(t,t, scale), state, target)) / (len(target) * 2)\n",
    "\n",
    "\n",
    "    # return -1 * sum(map(lambda x,y: (x-y)**2, state, target))"
   ]
  },
  {
   "cell_type": "code",
   "execution_count": 69,
   "metadata": {},
   "outputs": [
    {
     "name": "stderr",
     "output_type": "stream",
     "text": [
      ".FF\n",
      "======================================================================\n",
      "FAIL: test_fitness_bad (__main__.Tests_Problem1a)\n",
      "----------------------------------------------------------------------\n",
      "Traceback (most recent call last):\n",
      "  File \"C:\\Users\\Ty\\AppData\\Local\\Temp\\ipykernel_16232\\1848617216.py\", line 8, in test_fitness_bad\n",
      "    self.assertAlmostEqual(recipe_success([0]*8), 39.7429130)\n",
      "AssertionError: 59.83849664102622 != 39.742913 within 7 places (20.095583641026217 difference)\n",
      "\n",
      "======================================================================\n",
      "FAIL: test_fitness_worse (__main__.Tests_Problem1a)\n",
      "----------------------------------------------------------------------\n",
      "Traceback (most recent call last):\n",
      "  File \"C:\\Users\\Ty\\AppData\\Local\\Temp\\ipykernel_16232\\1848617216.py\", line 10, in test_fitness_worse\n",
      "    self.assertAlmostEqual(recipe_success(range(9)), 31.1855578)\n",
      "AssertionError: 46.771287199818815 != 31.1855578 within 7 places (15.585729399818813 difference)\n",
      "\n",
      "----------------------------------------------------------------------\n",
      "Ran 3 tests in 0.012s\n",
      "\n",
      "FAILED (failures=2)\n"
     ]
    },
    {
     "data": {
      "text/plain": [
       "<unittest.runner.TextTestResult run=3 errors=0 failures=2>"
      ]
     },
     "execution_count": 69,
     "metadata": {},
     "output_type": "execute_result"
    }
   ],
   "source": [
    "# Write your own test case to make sure that the target element achieves\n",
    "# the fitness score you would expect it to (this will vary depending on\n",
    "# what you did here.)\n",
    "class Tests_Problem1a(unittest.TestCase):\n",
    "    def test_fitness_good(self):\n",
    "        self.assertAlmostEqual(recipe_success(target), 100)\n",
    "    def test_fitness_bad(self):\n",
    "        self.assertAlmostEqual(recipe_success([0]*8), 39.7429130)\n",
    "    def test_fitness_worse(self):\n",
    "        self.assertAlmostEqual(recipe_success(range(9)), 31.1855578)\n",
    "\n",
    "tests_to_run = unittest.TestSuite()\n",
    "tests_to_run.addTest(Tests_Problem1a(\"test_fitness_good\"))\n",
    "tests_to_run.addTest(Tests_Problem1a(\"test_fitness_bad\"))\n",
    "tests_to_run.addTest(Tests_Problem1a(\"test_fitness_worse\"))\n",
    "unittest.TextTestRunner().run(tests_to_run)"
   ]
  },
  {
   "cell_type": "markdown",
   "metadata": {},
   "source": [
    "### (1b) \n",
    "\n",
    "Write a genetic algorithm that starts with a population of 100 randomly generated \"recipes/states/members\" and uses the objective function you wrote in **(1a)** to hopefully hit the target after a certain number of generations. \n",
    "\n",
    "Key components of your code:\n",
    "- Generate the initial population randomly from integers between 0 and 100 \n",
    "- Allow for mutations in your population with an overall probability of mutation set to p = 0.2\n",
    "- Choose 2 \"parents\" in the generation of each \"child\"\n",
    "- Choose a random split point at which to combine the two \"parents\"\n",
    "- Run the algorithm for 50 iterations (\"generations\"). Do you hit your target?"
   ]
  },
  {
   "cell_type": "code",
   "execution_count": 73,
   "metadata": {},
   "outputs": [
    {
     "name": "stdout",
     "output_type": "stream",
     "text": [
      "0 3.4143640809286877 None\n",
      "1 10.116857615707756 (32.01027310425697, [99, 5, 4, 83, 0, 3, 62, 98])\n",
      "2 14.199620411871333 (38.78735608211179, [96, 3, 4, 83, 0, 3, 62, 98])\n",
      "3 16.381797603289886 (45.57553347196801, [1, 11, 20, 14, 0, 4, 7, 0])\n",
      "4 19.453333290955523 (46.728053574273666, [1, 5, 4, 87, 0, 4, 76, 68])\n",
      "5 19.67761804332175 (51.29840391094847, [1, 81, 75, 3, 0, 4, 7, 0])\n",
      "6 24.576870331952424 (61.58062344093178, [1, 27, 1, 3, 0, 4, 7, 0])\n",
      "7 27.33239920162732 (61.58062344093178, [1, 81, 1, 3, 0, 4, 7, 0])\n",
      "8 27.614886703899224 (68.34665858994998, [1, 16, 1, 1, 2, 66, 1, 0])\n",
      "9 28.88071330389286 (61.56957561209509, [99, 81, 1, 3, 0, 4, 1, 0])\n",
      "10 31.954723523186168 (63.78735608211179, [2, 5, 2, 43, 1, 4, 44, 0])\n",
      "11 33.67954875932164 (63.78735608211179, [1, 5, 2, 43, 1, 3, 93, 2])\n",
      "12 33.484002107985546 (67.29249263424028, [2, 5, 4, 52, 1, 3, 1, 0])\n",
      "13 33.80396155086058 (76.28735608211178, [2, 3, 4, 1, 0, 4, 1, 97])\n",
      "14 35.08475880430959 (76.83656775240438, [2, 3, 4, 1, 0, 4, 1, 5])\n",
      "15 34.00727945927569 (76.28735608211178, [1, 4, 4, 1, 0, 4, 1, 97])\n",
      "16 38.3567905469815 (78.50513655212849, [1, 3, 4, 43, 1, 4, 1, 0])\n",
      "17 40.39916949459899 (86.5695756120951, [1, 4, 4, 1, 0, 4, 1, 0])\n",
      "18 43.25888299796712 (83.06443905996662, [1, 3, 84, 1, 0, 4, 1, 0])\n",
      "19 44.01764440531302 (88.78735608211178, [1, 5, 1, 1, 1, 4, 1, 0])\n",
      "20 45.28122598554628 (88.78735608211178, [1, 5, 1, 1, 1, 4, 1, 0])\n",
      "21 44.84698966505321 (91.12887811993322, [1, 4, 2, 2, 0, 4, 1, 0])\n",
      "22 47.51698004332356 (93.34665858994991, [2, 4, 2, 1, 1, 4, 1, 0])\n",
      "23 47.132034651849516 (88.91109764991654, [2, 4, 1, 1, 0, 4, 1, 0])\n",
      "24 48.118681003727254 (91.12887811993323, [1, 4, 1, 1, 0, 4, 1, 0])\n",
      "25 52.52342372608967 (91.12887811993323, [1, 4, 1, 1, 0, 4, 1, 0])\n",
      "26 54.81984895391886 (93.34665858994991, [1, 3, 1, 1, 0, 4, 1, 0])\n",
      "27 53.808390372547166 (93.34665858994991, [1, 3, 1, 1, 0, 4, 1, 0])\n",
      "28 50.73008395146748 (95.56443905996662, [1, 3, 2, 1, 0, 4, 1, 0])\n",
      "29 54.031444208248956 (93.34665858994991, [1, 4, 2, 1, 0, 4, 1, 0])\n",
      "30 56.4404013688005 (93.34665858994993, [1, 4, 1, 1, 0, 4, 1, 1])\n",
      "31 55.17852233528246 (95.56443905996662, [1, 3, 2, 1, 0, 4, 1, 0])\n",
      "32 57.66005815753792 (93.34665858994991, [1, 4, 2, 1, 0, 4, 1, 0])\n",
      "33 58.83519494233317 (93.34665858994991, [1, 4, 2, 2, 1, 4, 1, 0])\n",
      "34 57.81592927556802 (95.56443905996662, [1, 4, 2, 1, 1, 4, 1, 0])\n",
      "35 56.92081294277887 (95.56443905996662, [1, 4, 2, 1, 1, 4, 1, 0])\n",
      "36 55.812949986483765 (95.56443905996662, [1, 4, 2, 1, 1, 4, 1, 0])\n",
      "37 58.77583214711568 (97.78221952998331, [1, 3, 2, 1, 1, 4, 1, 0])\n",
      "38 60.23915269248166 (97.78221952998331, [1, 3, 2, 1, 0, 4, 1, 1])\n",
      "39 62.02830392766058 (95.56443905996662, [1, 4, 2, 1, 1, 4, 1, 0])\n",
      "40 64.20113253328634 (97.78221952998331, [1, 3, 2, 1, 1, 4, 1, 0])\n",
      "41 60.76787539014388 (97.78221952998331, [1, 3, 2, 1, 1, 4, 1, 0])\n",
      "42 60.42657894922927 (97.78221952998331, [1, 3, 2, 1, 1, 4, 1, 0])\n",
      "43 64.65747860639314 (97.78221952998331, [1, 3, 2, 1, 1, 4, 1, 0])\n",
      "44 61.32073439592159 (97.78221952998331, [1, 3, 2, 1, 1, 4, 1, 0])\n",
      "45 60.76264914488762 (97.78221952998331, [1, 3, 2, 1, 1, 4, 1, 0])\n",
      "46 59.90805737403085 (95.56443905996662, [1, 3, 2, 1, 2, 4, 1, 0])\n",
      "47 55.62685430085026 (95.56443905996662, [1, 3, 2, 1, 2, 4, 1, 0])\n",
      "48 59.28848917396486 (97.78221952998331, [1, 3, 2, 1, 1, 4, 1, 0])\n",
      "49 60.03257297691569 (97.78221952998331, [1, 3, 2, 1, 1, 4, 1, 0])\n",
      "50 57.1627997184603 (97.78221952998331, [1, 3, 2, 1, 1, 4, 1, 0])\n",
      "51 59.47557301504918 (95.56443905996662, [1, 3, 2, 1, 0, 4, 1, 0])\n",
      "52 59.86854706676981 (97.78221952998331, [1, 3, 2, 1, 1, 4, 1, 0])\n",
      "53 60.16491590799396 (95.56443905996662, [1, 3, 2, 1, 1, 3, 1, 0])\n",
      "54 61.47277975193887 (97.78221952998331, [1, 3, 2, 1, 1, 4, 1, 0])\n",
      "55 62.385635040041386 (97.78221952998331, [1, 3, 2, 1, 1, 4, 1, 0])\n",
      "56 63.13688196314934 (95.56443905996662, [1, 3, 3, 1, 1, 4, 1, 0])\n",
      "57 60.8969181824626 (95.56443905996662, [1, 4, 2, 1, 1, 4, 1, 0])\n",
      "58 62.253550186970934 (97.78221952998331, [1, 3, 2, 1, 1, 4, 1, 0])\n",
      "59 65.49547940522376 (95.56443905996662, [1, 4, 2, 1, 1, 4, 1, 0])\n",
      "60 61.53321152696188 (97.78221952998331, [1, 3, 2, 1, 1, 4, 1, 0])\n",
      "61 62.798322238764165 (95.56443905996662, [1, 4, 2, 1, 1, 4, 1, 0])\n",
      "62 62.379719122391464 (95.56443905996662, [1, 2, 2, 1, 1, 4, 1, 0])\n",
      "63 59.59607282738904 (95.56443905996662, [1, 4, 2, 1, 1, 4, 1, 0])\n",
      "64 58.959767589439394 (95.56443905996662, [1, 4, 2, 1, 1, 4, 1, 0])\n",
      "65 59.41567914613694 (95.56443905996662, [1, 4, 2, 1, 1, 4, 1, 0])\n",
      "66 62.081521653007094 (97.78221952998331, [1, 2, 2, 1, 1, 4, 1, 1])\n",
      "67 59.182993042725 (97.78221952998331, [1, 2, 2, 1, 1, 4, 1, 1])\n",
      "68 59.958110127560886 (97.78221952998331, [1, 2, 2, 1, 1, 4, 1, 1])\n",
      "69 59.86967829495422 (95.56443905996662, [1, 2, 2, 1, 1, 4, 1, 2])\n",
      "70 60.65649042219902 (95.56443905996662, [1, 4, 2, 1, 1, 4, 1, 0])\n",
      "71 63.68251963240471 (97.78221952998331, [1, 3, 2, 1, 1, 4, 1, 0])\n",
      "72 66.76011822870392 (97.78221952998331, [1, 2, 2, 1, 1, 4, 1, 1])\n",
      "73 63.72022439826882 (97.78221952998331, [1, 2, 2, 1, 1, 4, 1, 1])\n",
      "74 63.64030415038818 (97.78221952998331, [1, 2, 2, 1, 1, 4, 1, 1])\n",
      "75 64.56584427496378 (97.78221952998331, [1, 2, 2, 1, 1, 4, 1, 1])\n",
      "76 66.91876575145696 (95.56443905996662, [2, 3, 2, 1, 1, 4, 1, 0])\n",
      "77 66.7318565568119 (95.56443905996662, [2, 3, 2, 1, 1, 4, 1, 0])\n",
      "78 60.283562984612544 (95.56443905996662, [2, 3, 2, 1, 1, 4, 1, 2])\n",
      "79 64.75458343124163 (95.56443905996662, [1, 4, 2, 1, 1, 4, 1, 0])\n",
      "80 64.10978359638487 (97.78221952998331, [1, 3, 2, 1, 1, 4, 1, 0])\n",
      "81 63.92852460686704 (95.56443905996662, [1, 4, 2, 1, 1, 4, 1, 0])\n",
      "82 62.83109290363446 (95.56443905996662, [1, 4, 2, 1, 1, 4, 1, 2])\n",
      "83 66.7518160086712 (95.56443905996662, [1, 4, 2, 1, 1, 4, 1, 0])\n",
      "84 65.15220074297663 (95.56443905996662, [1, 4, 2, 1, 1, 4, 1, 2])\n",
      "85 63.46181263267756 (95.56443905996662, [1, 4, 2, 1, 1, 4, 1, 0])\n",
      "86 66.38251938205009 (95.56443905996662, [1, 4, 2, 1, 1, 4, 1, 2])\n",
      "87 62.79483018689929 (95.56443905996662, [1, 4, 2, 1, 1, 4, 1, 0])\n",
      "88 63.591950294221334 (95.56443905996662, [1, 4, 2, 1, 1, 4, 1, 2])\n",
      "89 64.11856461492562 (95.56443905996662, [1, 4, 2, 1, 1, 4, 1, 2])\n",
      "90 63.796923651667 (97.78221952998331, [1, 3, 2, 1, 1, 4, 1, 0])\n",
      "91 63.644914272819676 (97.78221952998331, [1, 3, 2, 1, 1, 4, 1, 0])\n",
      "92 64.06288997676583 (97.78221952998331, [1, 3, 2, 1, 1, 4, 1, 0])\n",
      "93 64.95807881956017 (97.78221952998331, [1, 3, 2, 1, 1, 4, 1, 0])\n",
      "94 62.43074257355969 (97.78221952998331, [1, 3, 2, 1, 1, 4, 1, 0])\n",
      "95 65.6876926393364 (97.78221952998331, [1, 3, 2, 1, 1, 4, 1, 0])\n",
      "96 65.55542815827208 (97.78221952998331, [1, 3, 2, 1, 1, 4, 1, 2])\n",
      "97 63.88295504349604 (97.78221952998331, [1, 2, 2, 1, 1, 4, 1, 1])\n",
      "98 63.44176824511137 (97.78221952998331, [1, 2, 2, 1, 1, 4, 1, 1])\n",
      "99 61.60153598918162 (95.56443905996662, [2, 3, 2, 1, 1, 4, 1, 0])\n",
      "100 66.04046019508318 (95.56443905996662, [1, 4, 2, 1, 1, 4, 1, 2])\n",
      "101 63.97929226868268 (97.78221952998331, [1, 2, 2, 1, 1, 4, 1, 1])\n",
      "102 62.743329917336 (97.78221952998331, [1, 2, 2, 1, 1, 4, 1, 1])\n",
      "103 65.5159375395463 (97.78221952998331, [1, 2, 2, 1, 1, 4, 1, 1])\n",
      "104 63.82996199710422 (97.78221952998331, [1, 4, 2, 1, 1, 4, 1, 1])\n",
      "105 64.19224063083878 (97.78221952998331, [1, 4, 2, 1, 1, 4, 1, 1])\n",
      "106 63.58195968874481 (97.78221952998331, [1, 2, 2, 1, 1, 4, 1, 1])\n",
      "107 64.72182539435808 (97.78221952998331, [1, 2, 2, 1, 1, 4, 1, 1])\n",
      "108 61.951542937463856 (95.56443905996662, [1, 4, 2, 1, 1, 4, 1, 2])\n",
      "109 62.722487999924226 (95.56443905996662, [1, 4, 2, 1, 1, 4, 1, 0])\n",
      "110 60.98056437185046 (95.56443905996662, [1, 4, 2, 1, 1, 4, 1, 0])\n",
      "111 66.53722569080152 (97.78221952998331, [1, 3, 2, 1, 1, 4, 1, 2])\n",
      "112 66.46219006218928 (97.78221952998331, [1, 3, 2, 1, 1, 4, 1, 0])\n",
      "113 64.6419819440739 (97.78221952998331, [1, 3, 2, 1, 1, 4, 1, 0])\n",
      "114 62.42617916071785 (95.56443905996662, [1, 4, 2, 1, 1, 4, 1, 2])\n",
      "115 65.75498577663745 (97.78221952998331, [1, 2, 2, 1, 1, 4, 1, 1])\n",
      "116 66.15807643030877 (97.78221952998331, [1, 2, 2, 1, 1, 4, 1, 1])\n",
      "117 66.63495617482874 (97.78221952998331, [1, 4, 2, 1, 1, 4, 1, 1])\n",
      "118 66.8831341833348 (97.78221952998331, [1, 4, 2, 1, 1, 4, 1, 1])\n",
      "119 66.5544191451232 (97.78221952998331, [1, 4, 2, 1, 1, 4, 1, 1])\n",
      "120 64.42462164251447 (95.56443905996662, [1, 4, 2, 1, 1, 4, 1, 2])\n",
      "121 63.511354027795534 (97.78221952998331, [1, 4, 2, 1, 1, 4, 1, 1])\n",
      "122 64.36121251615668 (97.78221952998331, [1, 4, 2, 1, 1, 4, 1, 1])\n",
      "123 61.919209602477686 (97.78221952998331, [1, 2, 2, 1, 1, 4, 1, 1])\n",
      "124 69.04630629548458 (97.78221952998331, [1, 4, 2, 1, 1, 4, 1, 1])\n",
      "125 64.67269024315925 (97.78221952998331, [1, 4, 2, 1, 1, 4, 1, 1])\n",
      "126 64.47484593740982 (97.78221952998331, [1, 4, 2, 1, 1, 4, 1, 1])\n",
      "127 62.03797747398343 (97.78221952998331, [1, 4, 2, 1, 1, 4, 1, 1])\n",
      "128 60.78141346646039 (97.78221952998331, [1, 4, 2, 1, 1, 4, 1, 1])\n",
      "129 62.37484021031469 (97.78221952998331, [1, 4, 2, 1, 1, 4, 1, 1])\n",
      "130 64.81107840609114 (97.78221952998331, [1, 4, 2, 1, 1, 4, 1, 1])\n",
      "131 59.92506288830349 (97.78221952998331, [1, 4, 2, 1, 1, 4, 1, 1])\n",
      "132 65.25088274558203 (97.78221952998331, [1, 4, 2, 1, 1, 4, 1, 1])\n",
      "133 65.46813924960288 (97.78221952998331, [1, 4, 2, 1, 1, 4, 1, 1])\n",
      "134 62.83727705151321 (97.78221952998331, [1, 4, 2, 1, 1, 4, 1, 1])\n",
      "135 62.380652598057715 (97.78221952998331, [1, 4, 2, 1, 1, 4, 1, 1])\n",
      "136 63.31034052118513 (97.78221952998331, [1, 4, 2, 1, 1, 4, 1, 1])\n",
      "137 60.92882481035947 (97.78221952998331, [1, 4, 2, 1, 1, 4, 1, 1])\n",
      "138 65.29630153308162 (97.78221952998331, [1, 2, 2, 1, 1, 4, 1, 1])\n",
      "139 66.98586364196873 (97.78221952998331, [1, 4, 2, 1, 1, 4, 1, 1])\n",
      "140 62.45866898130222 (97.78221952998331, [1, 4, 2, 1, 1, 4, 1, 1])\n",
      "141 64.36944839429759 (97.78221952998331, [1, 4, 2, 1, 1, 4, 1, 1])\n",
      "142 60.646214079553346 (97.78221952998331, [1, 4, 2, 1, 1, 4, 1, 1])\n",
      "143 61.05996233555439 (97.78221952998331, [1, 4, 2, 1, 1, 4, 1, 1])\n",
      "144 60.269909712866145 (97.78221952998331, [1, 4, 2, 1, 1, 4, 1, 1])\n",
      "145 60.97427358210442 (97.78221952998331, [1, 4, 2, 1, 1, 4, 1, 1])\n",
      "146 60.3169891448443 (97.78221952998331, [1, 4, 2, 1, 1, 4, 1, 1])\n",
      "147 64.9066336108774 (97.78221952998331, [1, 4, 2, 1, 1, 4, 1, 1])\n",
      "148 64.55921239369731 (97.78221952998331, [1, 4, 2, 1, 1, 4, 1, 1])\n",
      "149 61.98490515800537 (97.78221952998331, [1, 4, 2, 1, 1, 4, 1, 1])\n",
      "150 63.05652124623523 (97.78221952998331, [1, 4, 2, 1, 1, 4, 1, 1])\n",
      "151 66.9136109217202 (97.78221952998331, [1, 4, 2, 1, 1, 4, 1, 1])\n",
      "152 59.19450598440165 (97.78221952998331, [1, 4, 2, 1, 1, 4, 1, 1])\n",
      "153 61.25112108484249 (97.78221952998331, [1, 4, 2, 1, 1, 4, 1, 1])\n",
      "154 58.96099978597631 (97.78221952998331, [1, 4, 2, 1, 1, 4, 1, 1])\n",
      "155 63.22366035342001 (97.78221952998331, [1, 4, 2, 1, 1, 4, 1, 1])\n"
     ]
    },
    {
     "data": {
      "text/plain": [
       "(100.0, [1, 3, 2, 1, 1, 4, 1, 1])"
      ]
     },
     "execution_count": 73,
     "metadata": {},
     "output_type": "execute_result"
    }
   ],
   "source": [
    "#Your code here \n",
    "class genetic_algorithm():\n",
    "    def __init__(self, objective_function, population_dimensions: tuple[int, int], mutation_probability: float) -> None:\n",
    "        self.population_dims = population_dimensions\n",
    "        self.grade = objective_function\n",
    "        self.mutate_p = mutation_probability\n",
    "        self.pop = self.init_population()\n",
    "\n",
    "    def init_population(self) -> np.ndarray[any, int]:\n",
    "        return np.random.randint(0, 100, size = self.population_dims)\n",
    "\n",
    "    def mutate(self, member: list[int]) -> list[int]:\n",
    "        do_mutate: bool = np.random.choice([True, False], p=[self.mutate_p, 1-self.mutate_p])\n",
    "\n",
    "        if do_mutate:\n",
    "            # print(np.random.normal(scale=10, size=len(member)))\n",
    "            # mutated_gene : list[int] = np.random.choice([-2,-1-1,0,0,0,0,0,1,1,2], len(member), True)\n",
    "            mutated_gene = np.random.randint(-10, 10, len(member))\n",
    "            for gene_idx in range(len(member)):\n",
    "                member[gene_idx] += mutated_gene[gene_idx]\n",
    "                if member[gene_idx] < 0:\n",
    "                    member[gene_idx] = 100 + member[gene_idx]\n",
    "                elif member[gene_idx] > 100:\n",
    "                    member[gene_idx] = member[gene_idx] - 100\n",
    "\n",
    "        return member\n",
    "\n",
    "    def reproduce(self, distribution : list[float]) -> list[int]:\n",
    "        parent1, parent2 = [ self.pop[idx] for idx in np.random.choice(len(self.pop), 2, False, distribution) ]\n",
    "        split_idx = np.random.randint(low=1, high=self.population_dims[1])\n",
    "        return list(parent1[:split_idx]) + list(parent2[split_idx:])\n",
    "\n",
    "    def run_generations(self, n_generations: int, goal_grade: int):\n",
    "        best_member = None\n",
    "        for generation_idx in range(n_generations):\n",
    "            all_performance = [ self.grade(member) for member in self.pop]\n",
    "            print(generation_idx, np.mean(all_performance), best_member)\n",
    "            reproduce_p = [ grade/sum(all_performance) for grade in all_performance]\n",
    "\n",
    "            new_generation = [ self.mutate(self.reproduce(reproduce_p)) for idx in range(len(self.pop))]\n",
    "            best_member = max([(self.grade(member), member) for member in new_generation])\n",
    "\n",
    "            if best_member[0] >= goal_grade:\n",
    "                return best_member\n",
    "            else:\n",
    "                self.pop = new_generation\n",
    "            \n",
    "        \n",
    "        return max([(self.grade(member), member) for member in new_generation])\n",
    "\n",
    "a = genetic_algorithm(recipe_success, (200,8), 0.25)\n",
    "a.run_generations(500, 100)"
   ]
  },
  {
   "cell_type": "code",
   "execution_count": 62,
   "metadata": {},
   "outputs": [
    {
     "name": "stdout",
     "output_type": "stream",
     "text": [
      "[(50, 0.2, 0.0), (55, 0.2, 0.0), (60, 0.2, 0.0), (65, 0.2, 0.0), (70, 0.2, 0.0), (75, 0.2, 0.0), (80, 0.2, 0.0), (85, 0.2, 0.0), (90, 0.2, 0.0), (95, 0.2, 0.0)]\n",
      "[(50, 0.4, 0.0), (55, 0.4, 0.0), (60, 0.4, 0.0), (65, 0.4, 0.0), (70, 0.4, 0.0), (75, 0.4, 0.0), (80, 0.4, 0.0), (85, 0.4, 0.0), (90, 0.4, 0.0), (95, 0.4, 0.0)]\n",
      "[(50, 0.6000000000000001, 0.0), (55, 0.6000000000000001, 0.0), (60, 0.6000000000000001, 0.0), (65, 0.6000000000000001, 0.0), (70, 0.6000000000000001, 0.0), (75, 0.6000000000000001, 0.0), (80, 0.6000000000000001, 0.0), (85, 0.6000000000000001, 0.0), (90, 0.6000000000000001, 0.0), (95, 0.6000000000000001, 0.0)]\n",
      "[(50, 0.8, 0.0), (55, 0.8, 0.0), (60, 0.8, 0.0), (65, 0.8, 0.0), (70, 0.8, 0.0), (75, 0.8, 0.0), (80, 0.8, 0.0), (85, 0.8, 0.0), (90, 0.8, 0.0), (95, 0.8, 0.0)]\n",
      "[(50, 1.0, 0.0), (55, 1.0, 0.0), (60, 1.0, 0.0), (65, 1.0, 0.0), (70, 1.0, 0.0), (75, 1.0, 0.0), (80, 1.0, 0.0), (85, 1.0, 0.0), (90, 1.0, 0.0), (95, 1.0, 0.0)]\n",
      "[(50, 1.2, 0.0), (55, 1.2, 0.0), (60, 1.2, 0.0), (65, 1.2, 0.0), (70, 1.2, 0.0), (75, 1.2, 0.0), (80, 1.2, 0.0), (85, 1.2, 0.0), (90, 1.2, 0.0), (95, 1.2, 0.0)]\n",
      "[(50, 1.4000000000000001, 2.8145687693828742e-267), (55, 1.4000000000000001, 5e-324), (60, 1.4000000000000001, 0.0), (65, 1.4000000000000001, 0.0), (70, 1.4000000000000001, 0.0), (75, 1.4000000000000001, 0.0), (80, 1.4000000000000001, 0.0), (85, 1.4000000000000001, 0.0), (90, 1.4000000000000001, 0.0), (95, 1.4000000000000001, 0.0)]\n",
      "[(50, 1.6, 5.450402184802193e-205), (55, 1.6, 1.1285243564497818e-248), (60, 1.6, 1.3410231451725712e-296), (65, 1.6, 0.0), (70, 1.6, 0.0), (75, 1.6, 0.0), (80, 1.6, 0.0), (85, 1.6, 0.0), (90, 1.6, 0.0), (95, 1.6, 0.0)]\n",
      "[(50, 1.8, 2.68416182268657e-162), (55, 1.8, 8.186922971547486e-197), (60, 1.8, 1.112743444691922e-234), (65, 1.8, 6.739562663857601e-276), (70, 1.8, 1.819e-320), (75, 1.8, 0.0), (80, 1.8, 0.0), (85, 1.8, 0.0), (90, 1.8, 0.0), (95, 1.8, 0.0)]\n",
      "[(50, 2.0, 9.062513967757625e-132), (55, 2.0, 9.989446295841398e-160), (60, 2.0, 2.1256591767637757e-190), (65, 2.0, 8.731831283793884e-224), (70, 2.0, 6.924310391689679e-260), (75, 2.0, 1.060003275762303e-298), (80, 2.0, 0.0), (85, 2.0, 0.0), (90, 2.0, 0.0), (95, 2.0, 0.0)]\n",
      "[(50, 2.2, 3.445913926996303e-109), (55, 2.2, 2.7024721363588306e-132), (60, 2.2, 1.2104905491445479e-157), (65, 2.2, 3.0967415400274403e-185), (70, 2.2, 4.5247219373049345e-215), (75, 2.2, 3.775914998794769e-247), (80, 2.2, 1.7996825335199068e-281), (85, 2.2, 4.89906e-318), (90, 2.2, 0.0), (95, 2.2, 0.0)]\n",
      "[(50, 2.4000000000000004, 5.0697038111486646e-92), (55, 2.4000000000000004, 1.9494320071876855e-111), (60, 2.4000000000000004, 9.769557846243149e-133), (65, 2.4000000000000004, 6.380916129139343e-156), (70, 2.4000000000000004, 5.43165872417658e-181), (75, 2.4000000000000004, 6.025918102834187e-208), (80, 2.4000000000000004, 8.712750668516488e-237), (85, 2.4000000000000004, 1.6418317821403836e-267), (90, 2.4000000000000004, 4.032211852210573e-300), (95, 2.4000000000000004, 0.0)]\n",
      "[(50, 2.6000000000000005, 1.1484691467736883e-78), (55, 2.6000000000000005, 3.289252987158168e-95), (60, 2.6000000000000005, 2.3332247624166114e-113), (65, 2.6000000000000005, 4.099182273453922e-133), (70, 2.6000000000000005, 1.7836894228112084e-154), (75, 2.6000000000000005, 1.9223063380659285e-177), (80, 2.6000000000000005, 5.131062593976494e-202), (85, 2.6000000000000005, 3.392136979257869e-228), (90, 2.6000000000000005, 5.554190917979059e-256), (95, 2.6000000000000005, 2.25242106608558e-285)]\n",
      "[(50, 2.8000000000000003, 4.491687081707834e-68), (55, 2.8000000000000003, 2.444967719115414e-82), (60, 2.8000000000000003, 5.4861686976812747e-98), (65, 2.8000000000000003, 5.074550492055829e-115), (70, 2.8000000000000003, 1.9348994014000057e-133), (75, 2.8000000000000003, 3.041246304994793e-153), (80, 2.8000000000000003, 1.9705034074936534e-174), (85, 2.8000000000000003, 5.263021910281125e-197), (90, 2.8000000000000003, 5.794627961214223e-221), (95, 2.8000000000000003, 2.6299550712904235e-246)]\n",
      "[(50, 3.0000000000000004, 1.5621776477227096e-59), (55, 3.0000000000000004, 5.862498475317346e-72), (60, 3.0000000000000004, 1.3679225385528231e-85), (65, 3.0000000000000004, 1.984571301856178e-100), (70, 3.0000000000000004, 1.7901867883402988e-116), (75, 3.0000000000000004, 1.0040525134282477e-133), (80, 3.0000000000000004, 3.501393706180864e-152), (85, 3.0000000000000004, 7.591924929123066e-172), (90, 3.0000000000000004, 1.0235034300709282e-192), (95, 3.0000000000000004, 8.579325376476642e-215)]\n",
      "[(50, 3.2, 1.5158970374737439e-52), (55, 3.2, 1.8184036769145814e-63), (60, 3.2, 1.8985482336252958e-75), (65, 3.2, 1.725296363174926e-88), (70, 3.2, 1.3646350324378397e-102), (75, 3.2, 9.394638275239725e-118), (80, 3.2, 5.629299395951778e-134), (85, 3.2, 2.9358872255271184e-151), (90, 3.2, 1.3327083805501398e-169), (95, 3.2, 5.265524353129487e-189)]\n",
      "[(50, 3.4000000000000004, 9.293399686214028e-47), (55, 3.4000000000000004, 1.9689172429647462e-56), (60, 3.4000000000000004, 4.79802094011342e-67), (65, 3.4000000000000004, 1.3448648583243176e-78), (70, 3.4000000000000004, 4.335877280630456e-91), (75, 3.4000000000000004, 1.6078930122770166e-104), (80, 3.4000000000000004, 6.858342089974284e-119), (85, 3.4000000000000004, 3.36482877496393e-134), (90, 3.4000000000000004, 1.8988411060688687e-150), (95, 3.4000000000000004, 1.2325260582791094e-167)]\n",
      "[(50, 3.6000000000000005, 6.537329100124743e-42), (55, 3.6000000000000005, 1.5363082082901592e-50), (60, 3.6000000000000005, 5.245621322546813e-60), (65, 3.6000000000000005, 2.6022924625045172e-70), (70, 3.6000000000000005, 1.8756675041753095e-81), (75, 3.6000000000000005, 1.96424740314601e-93), (80, 3.6000000000000005, 2.988664078430732e-106), (85, 3.6000000000000005, 6.606913219929974e-120), (90, 3.6000000000000005, 2.1220747803313882e-134), (95, 3.6000000000000005, 9.90292177161962e-150)]\n",
      "[(50, 3.8000000000000003, 8.224971406757551e-38), (55, 3.8000000000000003, 1.48121174428163e-45), (60, 3.8000000000000003, 4.7228594153737203e-54), (65, 3.8000000000000003, 2.666232456770032e-63), (70, 3.8000000000000003, 2.6649933212291126e-73), (75, 3.8000000000000003, 4.716277607194858e-84), (80, 3.8000000000000003, 1.4777729652026402e-95), (85, 3.8000000000000003, 8.19825071054918e-108), (90, 3.8000000000000003, 8.052668013330457e-121), (95, 3.8000000000000003, 1.4004368041252302e-134)]\n",
      "[(50, 4.0, 2.589358774052088e-34), (55, 4.0, 2.6531720347880406e-41), (60, 4.0, 5.698407001637888e-49), (65, 4.0, 2.565407681979759e-57), (70, 4.0, 2.4208851633791706e-66), (75, 4.0, 4.7885812291798393e-76), (80, 4.0, 1.9854291816035647e-86), (85, 4.0, 1.7255073550318054e-97), (90, 4.0, 3.1433598444729904e-109), (95, 4.0, 1.2002901964767204e-121)]\n",
      "[(50, 4.2, 2.6394201919234915e-31), (55, 4.2, 1.2075145519736642e-37), (60, 4.2, 1.3389966699382362e-44), (65, 4.2, 3.598901048543643e-52), (70, 4.2, 2.344572140822799e-60), (75, 4.2, 3.702205995414068e-69), (80, 4.2, 1.4169706171254838e-78), (85, 4.2, 1.3145115147999435e-88), (90, 4.2, 2.955774037989657e-99), (95, 4.2, 1.6109473653450555e-110)]\n",
      "[(50, 4.4, 1.0645391782509232e-28), (55, 4.4, 1.7814590727042744e-34), (60, 4.4, 8.195508288502533e-41), (65, 4.4, 1.0364820446125203e-47), (70, 4.4, 3.6035745981216135e-55), (75, 4.4, 3.444221674062707e-63), (80, 4.4, 9.049707002496709e-72), (85, 4.4, 6.536778759505496e-81), (90, 4.4, 1.2980125716033723e-90), (95, 4.4, 7.085652603076845e-101)]\n",
      "[(50, 4.6000000000000005, 1.9893601299335308e-26), (55, 4.6000000000000005, 1.032054384361976e-31), (60, 4.6000000000000005, 1.6427970312185714e-37), (65, 4.6000000000000005, 8.023380494005767e-44), (70, 4.6000000000000005, 1.2023281630096898e-50), (75, 4.6000000000000005, 5.528162549509517e-58), (80, 4.6000000000000005, 7.798853131259167e-66), (85, 4.6000000000000005, 3.3757698631714997e-74), (90, 4.6000000000000005, 4.4833957366956395e-83), (95, 4.6000000000000005, 1.826978640725475e-92)]\n",
      "[(50, 4.800000000000001, 1.9531687594232936e-24), (55, 4.800000000000001, 2.7350870012821477e-29), (60, 4.800000000000001, 1.2940851381379848e-34), (65, 4.800000000000001, 2.068782727079538e-40), (70, 4.800000000000001, 1.117447790616157e-46), (75, 4.800000000000001, 2.03938832459568e-53), (80, 4.800000000000001, 1.2575722454212093e-60), (85, 4.800000000000001, 2.620150797663052e-68), (90, 4.800000000000001, 1.8445055141142533e-76), (95, 4.800000000000001, 4.387265899605259e-85)]\n"
     ]
    }
   ],
   "source": [
    "recipe_success([1, 3, 2, 78, 1, 62, 1, 1])\n",
    "stats.norm.pdf(100,1)\n",
    "for i in [[(i, scale, stats.norm.pdf(i, 1, scale)) for i in np.arange(50,100,5)] for scale in np.arange(0.20, 5, .2)]:\n",
    "    print(i, sep=\"\\t\")"
   ]
  },
  {
   "cell_type": "markdown",
   "metadata": {},
   "source": [
    "### (1c)\n",
    "\n",
    "In a couple of paragraphs, report the following:\n",
    "- How many generations did it take to hit the goal?\n",
    "- If you change the initial population size to 200, does that change the number of generations it takes to achieve the goal recipe?\n",
    "- If you change the probability of mutation, does that affect the number of generations it takes to achieve the goal recipe? How so?\n",
    "\n",
    "Alternate questions to answer if Target not hit:\n",
    "- Report whether you minimized or maximized the objective function and whether that led to any major changes in how you designed the probability of reproduction. A couple sentences here is fine.\n",
    " \n",
    "- Report how many ingredients you ended up matching. e.g. target = [0.5, 3, 2.5, 1, 1.5, 4, 1, 1.25], perhaps your algorithm achieved [1.5, 3, 8, 1, 1, 100, 56, 1, 1.25], then you would have matched 4 of the ingredient values.\n",
    " \n",
    "- Report how many iterations you tried in order to get this answer. (Don't burn up your machine in the process)"
   ]
  },
  {
   "cell_type": "markdown",
   "metadata": {},
   "source": []
  },
  {
   "cell_type": "markdown",
   "metadata": {},
   "source": [
    "---\n",
    "\n",
    "## Problem 2:  Calibrating a model for global mean sea level changes\n",
    "\n",
    "<img src=\"http://www.anthropocenemagazine.org/wp-content/uploads/2017/05/future-sea-levels.jpg\" width=\"250\">\n",
    "\n",
    "**Part A:** Load and plot some data.\n",
    "\n",
    "Let's load a couple of data sets.  `data_sealevel.csv` is a data set of global mean sea levels, and the other, `data_temperature.csv` is a data set of global mean temperatures. The following bullets discuss the quantities of interest. \n",
    "* `sealevel` will be a list of global mean sea levels (millimeters). This data is found in a column which resides within the `data_sealevel.csv`\n",
    "* `sealevel_sigma` will be a list of the *uncertainty* in global mean sea levels (millimeters). Use the column labeled `uncertainty` within the `data_sealevel.csv` file to obtain this data, and\n",
    "* `temperature` will be a list of global mean temperatures (degrees Celsius). This data is in the `temperature` column in the `data_temperature.csv` file\n"
   ]
  },
  {
   "cell_type": "code",
   "execution_count": 16,
   "metadata": {},
   "outputs": [],
   "source": [
    "# Here is the suggested code to load in the data files. Feel free to modify these as you wish, but that\n",
    "# is not necessary.\n",
    "\n",
    "year = []\n",
    "sealevel = []\n",
    "sealevel_sigma = []\n",
    "temperature = []\n",
    "\n",
    "dfSealevel = pd.read_csv(\"data_sealevel.csv\")\n",
    "dfTemperature = pd.read_csv(\"data_temperature.csv\")\n",
    "\n",
    "# We aren't doing any heavy-duty stats stuff, so let's just keep what we need as regular lists\n",
    "year = dfSealevel[\"year\"].tolist()\n",
    "sealevel = dfSealevel[\"sealevel\"].tolist()\n",
    "sealevel_sigma = dfSealevel[\"uncertainty\"].tolist()\n",
    "temperature = dfTemperature[\"temperature\"].tolist()"
   ]
  },
  {
   "cell_type": "markdown",
   "metadata": {},
   "source": [
    "**Part A (i):**\n",
    "\n",
    "- Make three plots for Global mean surface temperature, Sea level (mm), and Sea Level Uncertainty (mm). The x-axis for each of these plots will be the years over which this data was collected. \n",
    "\n",
    "- Plot the data points as a scatter plots, and plot the three plots side-by-side-by-side (one row, three columns of figures). The point here is learn how to customize your figures a bit more, and also because computer screens are (typically) wider than they are tall."
   ]
  },
  {
   "cell_type": "code",
   "execution_count": 30,
   "metadata": {},
   "outputs": [
    {
     "ename": "IndexError",
     "evalue": "GridSpec slice would result in no space allocated for subplot",
     "output_type": "error",
     "traceback": [
      "\u001b[1;31m---------------------------------------------------------------------------\u001b[0m",
      "\u001b[1;31mIndexError\u001b[0m                                Traceback (most recent call last)",
      "Cell \u001b[1;32mIn [30], line 4\u001b[0m\n\u001b[0;32m      2\u001b[0m plt\u001b[39m.\u001b[39msubplot(\u001b[39m1\u001b[39m,\u001b[39m1\u001b[39m,(\u001b[39m1\u001b[39m,\u001b[39m1\u001b[39m))\u001b[39m.\u001b[39mplot(year, temperature)\n\u001b[0;32m      3\u001b[0m \u001b[39m# plt.subplot())\u001b[39;00m\n\u001b[1;32m----> 4\u001b[0m plt\u001b[39m.\u001b[39;49msubplot(\u001b[39m1\u001b[39;49m,\u001b[39m1\u001b[39;49m,(\u001b[39m2\u001b[39;49m,\u001b[39m1\u001b[39;49m))\u001b[39m.\u001b[39mplot(year, sealevel)\n\u001b[0;32m      5\u001b[0m \u001b[39m# plt.subplot(2).plot(year, sealevel_sigma)\u001b[39;00m\n\u001b[0;32m      6\u001b[0m plt\u001b[39m.\u001b[39mshow()\n",
      "File \u001b[1;32mc:\\Users\\Ty\\AppData\\Local\\Programs\\Python\\Python310\\lib\\site-packages\\matplotlib\\pyplot.py:1287\u001b[0m, in \u001b[0;36msubplot\u001b[1;34m(*args, **kwargs)\u001b[0m\n\u001b[0;32m   1284\u001b[0m fig \u001b[39m=\u001b[39m gcf()\n\u001b[0;32m   1286\u001b[0m \u001b[39m# First, search for an existing subplot with a matching spec.\u001b[39;00m\n\u001b[1;32m-> 1287\u001b[0m key \u001b[39m=\u001b[39m SubplotSpec\u001b[39m.\u001b[39;49m_from_subplot_args(fig, args)\n\u001b[0;32m   1289\u001b[0m \u001b[39mfor\u001b[39;00m ax \u001b[39min\u001b[39;00m fig\u001b[39m.\u001b[39maxes:\n\u001b[0;32m   1290\u001b[0m     \u001b[39m# if we found an axes at the position sort out if we can re-use it\u001b[39;00m\n\u001b[0;32m   1291\u001b[0m     \u001b[39mif\u001b[39;00m \u001b[39mhasattr\u001b[39m(ax, \u001b[39m'\u001b[39m\u001b[39mget_subplotspec\u001b[39m\u001b[39m'\u001b[39m) \u001b[39mand\u001b[39;00m ax\u001b[39m.\u001b[39mget_subplotspec() \u001b[39m==\u001b[39m key:\n\u001b[0;32m   1292\u001b[0m         \u001b[39m# if the user passed no kwargs, re-use\u001b[39;00m\n",
      "File \u001b[1;32mc:\\Users\\Ty\\AppData\\Local\\Programs\\Python\\Python310\\lib\\site-packages\\matplotlib\\gridspec.py:611\u001b[0m, in \u001b[0;36mSubplotSpec._from_subplot_args\u001b[1;34m(figure, args)\u001b[0m\n\u001b[0;32m    608\u001b[0m         \u001b[39mraise\u001b[39;00m \u001b[39mValueError\u001b[39;00m(\n\u001b[0;32m    609\u001b[0m             \u001b[39mf\u001b[39m\u001b[39m\"\u001b[39m\u001b[39mnum must be 1 <= num <= \u001b[39m\u001b[39m{\u001b[39;00mrows\u001b[39m*\u001b[39mcols\u001b[39m}\u001b[39;00m\u001b[39m, not \u001b[39m\u001b[39m{\u001b[39;00mnum\u001b[39m!r}\u001b[39;00m\u001b[39m\"\u001b[39m)\n\u001b[0;32m    610\u001b[0m     i \u001b[39m=\u001b[39m j \u001b[39m=\u001b[39m num\n\u001b[1;32m--> 611\u001b[0m \u001b[39mreturn\u001b[39;00m gs[i\u001b[39m-\u001b[39;49m\u001b[39m1\u001b[39;49m:j]\n",
      "File \u001b[1;32mc:\\Users\\Ty\\AppData\\Local\\Programs\\Python\\Python310\\lib\\site-packages\\matplotlib\\gridspec.py:260\u001b[0m, in \u001b[0;36mGridSpecBase.__getitem__\u001b[1;34m(self, key)\u001b[0m\n\u001b[0;32m    256\u001b[0m     num1, num2 \u001b[39m=\u001b[39m np\u001b[39m.\u001b[39mravel_multi_index(\n\u001b[0;32m    257\u001b[0m         [_normalize(k1, nrows, \u001b[39m0\u001b[39m), _normalize(k2, ncols, \u001b[39m1\u001b[39m)],\n\u001b[0;32m    258\u001b[0m         (nrows, ncols))\n\u001b[0;32m    259\u001b[0m \u001b[39melse\u001b[39;00m:  \u001b[39m# Single key\u001b[39;00m\n\u001b[1;32m--> 260\u001b[0m     num1, num2 \u001b[39m=\u001b[39m _normalize(key, nrows \u001b[39m*\u001b[39;49m ncols, \u001b[39mNone\u001b[39;49;00m)\n\u001b[0;32m    262\u001b[0m \u001b[39mreturn\u001b[39;00m SubplotSpec(\u001b[39mself\u001b[39m, num1, num2)\n",
      "File \u001b[1;32mc:\\Users\\Ty\\AppData\\Local\\Programs\\Python\\Python310\\lib\\site-packages\\matplotlib\\gridspec.py:237\u001b[0m, in \u001b[0;36mGridSpecBase.__getitem__.<locals>._normalize\u001b[1;34m(key, size, axis)\u001b[0m\n\u001b[0;32m    235\u001b[0m     \u001b[39mif\u001b[39;00m stop \u001b[39m>\u001b[39m start:\n\u001b[0;32m    236\u001b[0m         \u001b[39mreturn\u001b[39;00m start, stop \u001b[39m-\u001b[39m \u001b[39m1\u001b[39m\n\u001b[1;32m--> 237\u001b[0m     \u001b[39mraise\u001b[39;00m \u001b[39mIndexError\u001b[39;00m(\u001b[39m\"\u001b[39m\u001b[39mGridSpec slice would result in no space \u001b[39m\u001b[39m\"\u001b[39m\n\u001b[0;32m    238\u001b[0m                      \u001b[39m\"\u001b[39m\u001b[39mallocated for subplot\u001b[39m\u001b[39m\"\u001b[39m)\n\u001b[0;32m    239\u001b[0m \u001b[39melse\u001b[39;00m:\n\u001b[0;32m    240\u001b[0m     \u001b[39mif\u001b[39;00m key \u001b[39m<\u001b[39m \u001b[39m0\u001b[39m:\n",
      "\u001b[1;31mIndexError\u001b[0m: GridSpec slice would result in no space allocated for subplot"
     ]
    },
    {
     "data": {
      "image/png": "[encoded data removed]",
      "text/plain": [
       "<Figure size 640x480 with 1 Axes>"
      ]
     },
     "metadata": {},
     "output_type": "display_data"
    }
   ],
   "source": [
    "# # Your plotting code here.\n",
    "# plt.subplot(1,1,(1,1)).plot(year, temperature)\n",
    "# # plt.subplot())\n",
    "# plt.subplot(1,1,(2,1)).plot(year, sealevel)\n",
    "# # plt.subplot(2).plot(year, sealevel_sigma)\n",
    "# plt.show()"
   ]
  },
  {
   "cell_type": "markdown",
   "metadata": {},
   "source": [
    "**Part A (ii):** How does the uncertainty in global mean sea levels change as a function of time?  When is the uncertainty the highest?  Give one reason why you think this might be the case."
   ]
  },
  {
   "cell_type": "markdown",
   "metadata": {},
   "source": []
  },
  {
   "cell_type": "markdown",
   "metadata": {},
   "source": [
    "---\n",
    "\n",
    "**Part B:**  The \"out-of-box\" sea-level model\n",
    "\n",
    "In your plot from **(a)**, you should see quite an apparent relationship between increasing temperatures and rising sea levels.  Seems like someone should try to model the relationship between those two, huh?\n",
    "\n",
    "In the helper function, slr, below, a simple model for temperature-driven changes in global mean sea level (GMSL) is defined. This is the model of [Rahmstorf (2007)](http://science.sciencemag.org/content/315/5810/368).\n",
    "\n",
    "The `slr` model takes two parameters, $\\alpha$ and $T_{eq}$, and requires a time series of global mean temperatures: `slr(alpha, Teq, temperature)`.\n",
    "* `alpha` is the sensitivity of sea-level changes to changes in global temperature. The units for $\\alpha$ are millimeters of sea-level changes per year, or mm y$^{-1}$.\n",
    "* `Teq` is the equilibrium global mean temperature, with units of degrees Celsius.\n",
    "* `temperature` is the time series of global mean surface temperatures, assumed to be relative to the 1961-1990 mean.\n",
    "\n",
    "For now, you do not need to worry too much about how this model works.  It is very simple, and widely used, but the point here is that you can plug in a particular set of temperatures (the model **forcing**) and parameters ($\\alpha$ and $T_{eq}$), and out pops a time series of simulated global mean sea levels.\n",
    "\n",
    "**Our goal:**  pick good values for $\\alpha$ and $T_{eq}$, so that when we run the `slr` model using the observations of temperature (which we plotted above), the model output matches well the observations of global mean sea level (which we also plotted above).\n",
    "\n",
    "The whole process of figuring out what these good parameter values are is called **model calibration**, and it's awesome.  Model Calibration is the point of this problem. Let's have a look at why we need to do this in the first place, shall we?\n",
    "\n",
    "The default parameter choices given in the Rahmstorf (2007) paper are $\\alpha=3.4$ mm y$^{-1}$ and $T_{eq} = -0.5\\ ^{\\circ}$C.\n",
    "\n",
    "**Your task for Part B:**\n",
    "\n",
    "Make a plot that contains:\n",
    "* the observed sea level data as scatter points\n",
    "* the modeled sea levels as a line, using the temperature observations from above as the `temperature` input\n",
    "* an appropriate legend and axis labels\n",
    "* $x$ axis is years\n",
    "* $y$ axis is sea level\n",
    "\n",
    "Note that after you run the `slr` model, you will need to **normalize** the output relative to the 1961-1990 reference period.  That is because you are going to compare it against data that is also normalized against this reference period. The `years` that correspond to the model output should be the same as the `years` that correspond to the `temperature` input. Normalizing data can mean several things. Follow the steps outlined below to \"normalize\" the data in the way needed for this problem:\n",
    "- Compute the mean of the output of the slr model for the years from 1961-1990 (inclusive).\n",
    "- Subtract this value from each entry in the \"sealevel\" list (list returned by the slr function)\n",
    "\n",
    "\n",
    "Make sure that you normalize the data prior to plotting."
   ]
  },
  {
   "cell_type": "code",
   "execution_count": null,
   "metadata": {},
   "outputs": [],
   "source": [
    "# helpers\n",
    "\n",
    "def slr(alpha, Teq, temperature):\n",
    "    '''sea-level emulator of Rahmstorf 2007 (DOI: 10.1126/science.1135456)\n",
    "    Takes global mean temperature as forcing, and parameters:\n",
    "    alpha = temperature sensitivity of sea level rise, and\n",
    "    Teq   = equilibrium temperature,\n",
    "    and calculates a rise/fall in sea levels, based on whether the temperature\n",
    "    is warmer/cooler than the equilibrium temperature Teq.\n",
    "    Here, we are only worrying about alpha (for now!)'''\n",
    "\n",
    "    n_time = len(temperature)\n",
    "    deltat = 1\n",
    "    sealevel = [0]*n_time\n",
    "    sealevel[0] = -134\n",
    "    for t in range(n_time-1):\n",
    "        sealevel[t+1] = sealevel[t] + deltat*alpha*(temperature[t]-Teq)\n",
    "\n",
    "    return sealevel"
   ]
  },
  {
   "cell_type": "code",
   "execution_count": null,
   "metadata": {},
   "outputs": [],
   "source": [
    "# Your code here."
   ]
  },
  {
   "cell_type": "markdown",
   "metadata": {},
   "source": [
    "Your plot above ought to show decent match for the late 1900s, but diverge a bit further back in time.\n",
    "\n",
    "**The point:**  We can do better than this \"out-of-the-box\" version of the Rahmstorf sea level model."
   ]
  },
  {
   "cell_type": "markdown",
   "metadata": {},
   "source": [
    "**Part C:**   Figuring out our objective function\n",
    "\n",
    "As our **objective function**, we will use the joint likelihood function of the observed sea level data, given the model simulation.  The following is a detailed description of the derivation of the objective function for a hill climbing routine. **Note, you do not need to do anything for this part other than to read about the objective function and execute the cell below, then move to part D.**\n",
    "\n",
    "For a single data point in year $i$, $y_i$, with associated uncertainty $\\sigma_i$, we can assume the likelihood for our model simulation in year $i$, $\\eta_i$, follows a normal distribution centered at the data point.  The model simulation is a **deterministic** result of our parameter choices $\\alpha$ and $T_{eq}$, so we write the likelihood as:\n",
    "\n",
    "$$L(y_i \\mid \\alpha, T_{eq}) = \\dfrac{1}{\\sqrt{2 \\pi} \\sigma_i} e^{-\\dfrac{(\\eta_i(\\alpha, T_{eq}) - y_i)^2}{2\\sigma_i^2}}$$\n",
    "\n",
    "But that only uses a single data point.  Let's use all the data!  The **joint likelihood** is the product of all of the likelihoods associated with the individual data points. But that is the product of a lot of numbers that are less than 1, so it will be **tiny**.  Instead, we should try to optimize the **joint log-likelihood**, which is simply the (natural) logarithm of the joint likelihood function.\n",
    "\n",
    "If we assume the observational data ($y_i$) are all independent, then the joint log-likelihood is:\n",
    "\n",
    "$$l(\\mathbf{y} \\mid \\alpha, T_{eq}) = -\\dfrac{N}{2} \\log{(2\\pi)} - \\sum_{i=1}^N \\log{(\\sigma_i)} - \\dfrac{1}{2}\\sum_{i=1}^N \\left( \\dfrac{\\eta_i(\\alpha, T_{eq}) - y_i}{\\sigma_i} \\right)^2$$\n",
    "\n",
    "where, $\\mathbf{y} = [y_1, y_2, \\ldots, y_N]$ is the entire vector (list) of sea level observations, $\\eta(\\alpha, T_{eq}) = [\\eta_1(\\alpha, T_{eq}), \\eta_2(\\alpha, T_{eq}), \\ldots, \\eta_N(\\alpha, T_{eq})]$ is the entire vector (list) of `slr` model output when the parameter values $\\alpha$ and $T_{eq}$ are used, and $N$ is the number of observations we have."
   ]
  },
  {
   "cell_type": "markdown",
   "metadata": {},
   "source": [
    "**Defining our objective function**\n",
    "\n",
    "Now define a `log_likelihood(parameters, obs_mu, obs_sigma)` function:\n",
    "* `parameters`: argument that is a list of two parameter values, $[\\alpha, T_{eq}]$\n",
    "  * within the likelihood function, you will need to generate the model simulation $\\eta(\\alpha, T_{eq})$ using the input `parameters`, for comparison against the observational data\n",
    "* `obs_temp`: argument that is a time series (list) of observed global mean temperatures, that will be used to run the `slr` model. Provide a default value of `temperature` for this, because we only have one temperature data set to use, and we don't want to keep \n",
    "* `obs_mu`: argument that is a time series (list) of observed values, that will be used for comparison against the `model` output. Provide a default value of `sealevel` here, because we won't be changing the observational data.\n",
    "* `obs_sigma`: argument that is a time series (list) of the corresponding uncertainties in the observational data. Simiarly, provide a default value of `sealevel_sigma` here, so we can avoid the tedious task of sending the data set into this function.\n",
    "* all three of these inputs should be lists, and should be the same length\n",
    "* this routine should return a **single** float number, that is the joint log-likelihood of the given `model` simulation."
   ]
  },
  {
   "cell_type": "code",
   "execution_count": null,
   "metadata": {},
   "outputs": [],
   "source": [
    "# Here is the objective function. You will be using this function below when you code up hill-climbing and \n",
    "# simulated annealing routines.\n",
    "\n",
    "def log_likelihood(parameters, obs_temp=temperature, obs_mu=sealevel, obs_sigma=sealevel_sigma):\n",
    "    model = slr(alpha=parameters[0], Teq=parameters[1], temperature=temperature)\n",
    "    \n",
    "    # normalize\n",
    "    reference = (year.index(1961), year.index(1990))\n",
    "    model -= np.mean(model[reference[0]:(reference[1]+1)])\n",
    "\n",
    "    return np.sum([np.log(stats.norm.pdf(x=model, loc=obs_mu, scale=obs_sigma))])"
   ]
  },
  {
   "cell_type": "markdown",
   "metadata": {},
   "source": [
    "**Part D:**  Defining our class structure\n",
    "\n",
    "Now we will apply a hill-climbing algorithm to tune the $\\alpha$ and $T_{eq}$ parameters.\n",
    "\n",
    "Using our in-class lecture notebook on hill-climbing as a guide, do the following:\n",
    "\n",
    "* Define a `State` class, with attributes for the parameter values (which define the state) and the objective function value of that state.\n",
    "* Define a `Problem_hillclimb` **sub-class** of the more general class `Problem`, with:\n",
    "  * attributes for the current `State` (a `State` object), the `objective_function` (the log-likelihood defined above), and `stepsize`. You will need to play around to decide what an appropriate stepsize is. Keep in mind that you may need a different stepsize for each of $\\alpha$ and $T_{eq}$.\n",
    "  * methods for `moves` (return the list of all possible moves from the current state) and `best_move` (return the move that maximizes the objective function).\n",
    "  * the `moves` available should be in proper 2-dimensional space.  Do **not** simply optimize one parameter, keeping the other fixed, then optimize the other parameter, while keeping the first fixed.  (*That method *can* work, but there are some theoretical issues that would need to be tackled, and we are not getting into that here.*) You are allowed to restrict yourself to movements along a grid, as long as you entertain steps in both the $\\alpha$ and the $T_{eq}$ directions.\n",
    "* Define the `hill_climb` algorithm, with any necessary modifications (here, and in the above classes) for the new 2-dimensional state space.\n",
    "  * `hill_climb(problem, n_iter)`:  arguments are a `Problem_hillclimb` object and number of iterations, `n_iter`\n",
    "  * return a `State` that corresponds to the algorithm's guess at a global maximum"
   ]
  },
  {
   "cell_type": "code",
   "execution_count": null,
   "metadata": {},
   "outputs": [],
   "source": [
    "# Your code here."
   ]
  },
  {
   "cell_type": "markdown",
   "metadata": {},
   "source": [
    "Now:\n",
    "1. define an initial state object, using the default values from Rahmstorf 2007 as a starting point.\n",
    "2. define a hill-climbing problem object, using this initial state, the log-likelihood objective function, and stepsize(s) of your choosing. (The stepsize(s) may require some playing around to find something you are happy with.)\n",
    "3. ***hill-climb!!!*** Use a number of iterations that you deem appropriate. \n",
    "\n",
    "Play around until you have a simulation that you are happy with.  Then:\n",
    "1. Print to screen the parameter values and corresponding log-likelihood value.\n",
    "2. Compare this calibrated log-likelihood value to the \"out-of-box\" model (above).\n",
    "3. Make a plot of:\n",
    "  * the sea level observations as scatter points\n",
    "  * the uncalibrated model as one line\n",
    "  * the calibrated model as another line\n",
    "  * include axis labels and a legend\n",
    "  \n",
    "**\"Unit tests\":**\n",
    "* As a benchmark, make sure that your log-likelihood is *at least* -500.\n",
    "* Your calibrated (optimized) model simulation should be going straight through the data points.\n",
    "* If this isn't the case, remember to normalize your model against the 1961-1990 reference period!"
   ]
  },
  {
   "cell_type": "code",
   "execution_count": null,
   "metadata": {},
   "outputs": [],
   "source": [
    "# Your code here."
   ]
  },
  {
   "cell_type": "markdown",
   "metadata": {},
   "source": [
    "**Part E:**  Simulated annealing\n",
    "\n",
    "Let's re-calibrate the `slr` model. This time, we will use **simulated annealing**. Again, using our in-class activity as a guide, do the following:\n",
    "\n",
    "* Continue to use your `State` class above.\n",
    "* Define a `Problem_annealing` sub-class of the `Problem` class, with:\n",
    "  * attributes for the current `State` (a `State` object), the `objective_function` (the log-likelihood defined above), and `stepsize`. You will need to play around to decide what an appropriate stepsize is. Keep in mind that you may need a different stepsize for each of $\\alpha$ and $T_{eq}$.\n",
    "  * method for `random_move`, to pick a random move **by drawing from a multivariate normal distribution**.  You should use the `stepsize` attribute as the covariance (width) for this.\n",
    "* Define the `simulated_annealing` algorithm, with any necessary modifications (here, and in the above classes) for the new 2-dimensional state space.\n",
    "  * `simulated_annealing(problem, n_iter)`:  arguments are a `Problem_annealing` object and number of iterations, `n_iter`\n",
    "  * return a `State` that corresponds to the algorithm's guess at a global maximum\n",
    "\n",
    "Subject to the above constraints, you may implement these however you would like."
   ]
  },
  {
   "cell_type": "code",
   "execution_count": null,
   "metadata": {},
   "outputs": [],
   "source": [
    "# Your code here."
   ]
  },
  {
   "cell_type": "markdown",
   "metadata": {},
   "source": [
    "Now:\n",
    "1. define an initial state object, using the default values from Rahmstorf 2007 as a starting point.\n",
    "2. define a simulated annealing problem object, using this initial state, the log-likelihood objective function, an appropriate temperature updating schedule and stepsize(s) of your choosing. (The stepsize(s) may require some playing around to find something you are happy with.)\n",
    "  * note that this \"temperature\" is distinct from the actual physical temperature used as input to drive the `slr` model\n",
    "3. ***anneal!!!*** Use a number of iterations that you deem appropriate. \n",
    "\n",
    "Play around until you have a simulation that you are happy with.  Then:\n",
    "1. Print to screen the parameter values and corresponding log-likelihood value.\n",
    "2. Compare this calibrated log-likelihood value to the \"out-of-box\" model (above).\n",
    "3. Make a plot of:\n",
    "  * the sea level observations as scatter points\n",
    "  * the uncalibrated model as one line\n",
    "  * the calibrated model as another line\n",
    "  * include axis labels and a legend\n",
    "  \n",
    "**\"Unit tests\":**  How does your model look when you plot it against the data? If it doesn't look good, then you failed this unit test :("
   ]
  },
  {
   "cell_type": "code",
   "execution_count": null,
   "metadata": {},
   "outputs": [],
   "source": [
    "# Your code here."
   ]
  },
  {
   "cell_type": "markdown",
   "metadata": {},
   "source": [
    "**Part F:**\n",
    "\n",
    "Briefly summarize your findings. Specifically discuss the $\\alpha$ and $T_{eq}$ parameter values you found in **Part D** and **Part E**. How do these compare to the parameters of the model given by Rahmstorf? Did your hill-climbing and/or your simulated annealing programs find a better fit than the Rahmstorf model? "
   ]
  },
  {
   "cell_type": "markdown",
   "metadata": {},
   "source": []
  },
  {
   "cell_type": "code",
   "execution_count": null,
   "metadata": {},
   "outputs": [],
   "source": []
  }
 ],
 "metadata": {
  "kernelspec": {
   "display_name": "Python 3.10.7 64-bit",
   "language": "python",
   "name": "python3"
  },
  "language_info": {
   "codemirror_mode": {
    "name": "ipython",
    "version": 3
   },
   "file_extension": ".py",
   "mimetype": "text/x-python",
   "name": "python",
   "nbconvert_exporter": "python",
   "pygments_lexer": "ipython3",
   "version": "3.10.7"
  },
  "vscode": {
   "interpreter": {
    "hash": "9baa21103835e55c3546ef35c7fb69eb0b077c590c874f19ce38c45754ebbf89"
   }
  }
 },
 "nbformat": 4,
 "nbformat_minor": 4
}
