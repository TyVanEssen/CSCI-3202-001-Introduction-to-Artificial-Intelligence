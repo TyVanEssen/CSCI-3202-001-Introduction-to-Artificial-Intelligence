{
 "cells": [
  {
   "cell_type": "markdown",
   "metadata": {},
   "source": [
    "---\n",
    "\n",
    "# CSCI 3202, Fall 2022\n",
    "# Homework 2: MDP & Reinforcement Learning\n",
    "# Due: Friday September 9, 2022 at 6:00 PM\n",
    "\n",
    "<br> \n",
    "\n",
    "### Your name: Ty VanEssen\n",
    "\n",
    "<br> "
   ]
  },
  {
   "cell_type": "code",
   "execution_count": 3,
   "metadata": {},
   "outputs": [],
   "source": [
    "import pandas as pd\n",
    "import numpy as np\n",
    "import scipy.stats as stats\n",
    "import matplotlib.pyplot as plt\n",
    "from collections import defaultdict\n",
    "\n",
    "# added packages\n",
    "import heapq\n",
    "from matplotlib import colors"
   ]
  },
  {
   "cell_type": "markdown",
   "metadata": {},
   "source": [
    "\n",
    "\n",
    "---\n",
    "\n",
    "Consider a **cube** state space defined by $0 \\le x, y, z \\le L$. Suppose you are piloting/programming a drone to learn how to land on a platform at the center of the $z=0$ surface (the bottom). Some assumptions:\n",
    "* In this discrete world, if the drone is at $(x,y,z)$ it means that the box is centered at $(x,y,z)$. There are boxes (states) centered at $(x,y,z)$ for all $0 \\le x,y,z \\le L$. Each state is a 1 unit cube. \n",
    "* In this world, $L$ is always an even value.\n",
    "* All of the states with $z=0$ are terminal states.\n",
    "* The state at the center of the bottom of the cubic state space is the landing pad. For example, when $L=4$, the landing pad is at $(x,y,z) = (2,2,0)$.\n",
    "* All terminal states ***except*** the landing pad have a reward of -1. The landing pad has a reward of +1.\n",
    "* All non-terminal states have a living reward of -0.01.\n",
    "* The drone takes up exactly 1 cubic unit, and begins in a random non-terminal state.\n",
    "* The available actions in non-terminal states include moving exactly 1 unit Up (+z), Down (-z), North (+y), South (-y), East (+x) or West (-x). In a terminal state, the training episode should end."
   ]
  },
  {
   "cell_type": "markdown",
   "metadata": {},
   "source": [
    "#### Part A\n",
    "How many states would be in the discrete state space if $L=2$? Explain your reasoning."
   ]
  },
  {
   "cell_type": "markdown",
   "metadata": {},
   "source": [
    "3^3 = 27 states.\n",
    "Possible sub-states:\n",
    "- Z: 3. (0,1,2)\n",
    "- X: 3\n",
    "- Y: 3"
   ]
  },
  {
   "cell_type": "markdown",
   "metadata": {},
   "source": [
    "#### Part B\n",
    "Write a class `MDPLanding` to represent the Markov decision process for this drone. Include methods for:\n",
    "1. `actions(state)`, which should return a list of all actions available from the given state\n",
    "2. `reward(state)`, which should return the reward for the given state\n",
    "3. `result(state, action)`, which should return the resulting state of doing the given action in the given state\n",
    "\n",
    "and attributes for:\n",
    "1. `states`, a list of all the states in the state space, where each state is represented as an $(x,y,z)$ tuple\n",
    "2. `terminal_states`, a dictionary where keys are the terminal state tuples and the values are the rewards associated with those terminal states\n",
    "3. `default_reward`, a scalar for the reward associated with non-terminal states\n",
    "4. `all_actions`, a list of all possible actions (Up, Down, North, South, East, West)\n",
    "5. `discount`, the discount factor (use $\\gamma = 0.999$ for this entire problem)\n",
    "\n",
    "How you feed arguments/information into the class constructor is up to you.\n",
    "\n",
    "Note that actions are *deterministic* here.  The drone does not need to include transition probabilities for outcomes of particular actions. What the drone does need to learn, however, is where the landing pad is, and how to get there from any initial state.\n",
    "\n",
    "Before moving on to Part C, we recommend that you test that your MDPLanding code is set up correctly. Write unit tests that display the actions for a given state, rewards, results, etc. This will help you identify errors in your implementation and save you a lot of debugging time later."
   ]
  },
  {
   "cell_type": "code",
   "execution_count": 11,
   "metadata": {},
   "outputs": [],
   "source": [
    "# Solution:\n",
    "from typing import Tuple, Type\n",
    "\n",
    "\n",
    "State: Type[Tuple[int, int, int]] = (int, int, int)\n",
    "\n",
    "class MDPLanding:\n",
    "    default_reward = -0.01\n",
    "    all_actions = [\"Up\",\"Down\",\"North\",\"South\",\"East\",\"West\"]\n",
    "    discount = 0.999\n",
    "\n",
    "    def __init__(self, L : int):\n",
    "        self.L = L\n",
    "        self.states = [(x,y,z) for x in range(L + 1) for y in range(L + 1) for z in range(L + 1)]\n",
    "        self.terminal_states = {(L/2, L/2, 0): 1}\n",
    "        [ self.terminal_states.setdefault((x,y,0), -1) for x in range(L + 1) for y in range(L + 1) ]\n",
    "\n",
    "    def actions(self, state):\n",
    "        possible_actions = MDPLanding.all_actions.copy()\n",
    "        x = state[0]\n",
    "        y = state[1]\n",
    "        z = state[2]\n",
    "\n",
    "        if x >= self.L:\n",
    "            possible_actions.remove(\"East\")\n",
    "        if x <= 0:\n",
    "            possible_actions.remove(\"West\")\n",
    "        if y >= self.L:\n",
    "            possible_actions.remove(\"North\")\n",
    "        if y <= 0:\n",
    "            possible_actions.remove(\"South\")\n",
    "        if z >= self.L:\n",
    "            possible_actions.remove(\"Up\")\n",
    "        if z <= 0:\n",
    "            possible_actions.remove(\"Down\")\n",
    "\n",
    "        return possible_actions\n",
    "    \n",
    "    def reward(self, state: State):\n",
    "        if state in self.terminal_states:\n",
    "            return self.terminal_states[state]\n",
    "        else:\n",
    "            return MDPLanding.default_reward\n",
    "\n",
    "    def result(self, state: Tuple[int, int, int], action : all_actions) -> Tuple[int, int, int]:\n",
    "        match action:\n",
    "            case \"Up\":\n",
    "                return (*state[0:2], state[2] + 1)\n",
    "            case \"Down\":\n",
    "                return (*state[0:2], state[2] - 1)\n",
    "            case \"North\":\n",
    "                return (state[0], state[1] + 1, state[2])\n",
    "            case \"South\":\n",
    "                return (state[0], state[1] - 1, state[2])\n",
    "            case \"East\":\n",
    "                return (state[0] + 1, *state[1:])\n",
    "            case \"West\":\n",
    "                return (state[0] - 1, *state[1:])"
   ]
  },
  {
   "cell_type": "code",
   "execution_count": 19,
   "metadata": {},
   "outputs": [],
   "source": [
    "testObj = MDPLanding(4)\n",
    "assert len(testObj.all_actions) == 6\n",
    "assert [testObj.reward((2,x,0)) for x in range(5)] == [-1,-1,1,-1,-1]\n",
    "assert [testObj.reward((2,2,x)) for x in range(5)] == [1] + ([testObj.default_reward] * 4)\n",
    "assert [testObj.result((2,2,2), act) for act in testObj.all_actions] == [\n",
    "    (2,2,3),\n",
    "    (2,2,1),\n",
    "    (2,3,2),\n",
    "    (2,1,2),\n",
    "    (3,2,2),\n",
    "    (1,2,2)\n",
    "]"
   ]
  },
  {
   "cell_type": "markdown",
   "metadata": {
    "collapsed": true
   },
   "source": [
    "#### Part C\n",
    "Write a function to implement **policy iteration** for this drone landing MDP. Create an MDP environment to represent the $L=4$ case.\n",
    "\n",
    "Use your function to find an optimal policy for your new MDP environment. Check (by printing to screen) that the policy for the following states are what you expect, and **comment on the results**:\n",
    "1. $(2,2,1)$\n",
    "1. $(0,2,1)$\n",
    "1. $(2,0,1)$\n",
    "\n",
    "The policy for each of these states is the action that the agent should take in that state. "
   ]
  },
  {
   "cell_type": "code",
   "execution_count": 28,
   "metadata": {},
   "outputs": [],
   "source": [
    "def expected_utility(action, state: State, utilities, model: MDPLanding):\n",
    "    #Utility of doing action in state.\n",
    "    # Refering to the slides for Policy Iteration Q Learning\n",
    "    return utilities[model.result(state, action)] # Modified since deterministic\n",
    "\n",
    "def policy_evaluation(policy, utilities, model: MDPLanding):\n",
    "    new_utilities = {s:0 for s in model.states}\n",
    "    for state in model.states:\n",
    "        reward = model.reward(state)\n",
    "        spread_reward = model.discount * utilities[model.result(state, policy[state])]\n",
    "        new_utilities[state] = reward + spread_reward\n",
    "    return new_utilities\n",
    "\n",
    "def policy_iteration(model: MDPLanding):\n",
    "    U = {s:0 for s in model.states}\n",
    "    policy = {state: np.random.choice(model.actions(state)) for state in model.states} # seed with a random policy\n",
    "\n",
    "    while True:\n",
    "        # Utility of states distributed\n",
    "        U = policy_evaluation(policy, U, model)\n",
    "        unchanged = True\n",
    "        for s in model.states:\n",
    "            # Select the action of possible actions that leads to the square with the most utility\n",
    "            a = max(model.actions(s), key=lambda a: expected_utility(a, s, U, model))\n",
    "            if a != policy[s]:\n",
    "                policy[s] = a\n",
    "                unchanged = False\n",
    "        if unchanged:\n",
    "            return policy"
   ]
  },
  {
   "cell_type": "code",
   "execution_count": 30,
   "metadata": {},
   "outputs": [
    {
     "name": "stdout",
     "output_type": "stream",
     "text": [
      "(2, 2, 1) Down\n",
      "(0, 2, 1) East\n",
      "(2, 0, 1) North\n"
     ]
    }
   ],
   "source": [
    "model = MDPLanding(4)\n",
    "policy = policy_iteration(model)\n",
    "\n",
    "reference_states = [\n",
    "    (2,2,1),\n",
    "    (0,2,1),\n",
    "    (2,0,1)\n",
    "]\n",
    "for state in reference_states:\n",
    "    print(state, policy[state])"
   ]
  },
  {
   "cell_type": "markdown",
   "metadata": {},
   "source": [
    "These policies match what I would expect. The first example is above landing and thus needs to go down. The second example needs to increase it's x value by going east. The third exmple needs to increase its y value by going north."
   ]
  },
  {
   "cell_type": "markdown",
   "metadata": {},
   "source": [
    "#### Part D\n",
    "Provide an example of a non-deterministic transition that could be included in your code in Part C. Describe the function. How would you modify your code to handle a non-deterministic transition function?"
   ]
  },
  {
   "cell_type": "markdown",
   "metadata": {},
   "source": [
    "We could modify the code such that on any movement there is a 10% chance of also losing height. This modification would happen in the MDPLanding class's function result. I would have to modify part C's Expected_utility and policy_evaluation functions since they each would need to factor in the possibilty of the result not matching expected and would need weighted by the odds that it's different."
   ]
  },
  {
   "cell_type": "markdown",
   "metadata": {},
   "source": [
    "#### Part E\n",
    "Describe the main differences between **policy iteration** and **value iteration**? How would your code change in Part C to convert it to **value iteration**?"
   ]
  },
  {
   "cell_type": "markdown",
   "metadata": {},
   "source": [
    "Value iteration continually modifies the expected utilities along the graph and watches for when the difference in those values is insignificant. Policy iteration is similar however it uses the values from value iteration and waits until the action to be taken does not change, aka no highest valued neighbors change, it terminates earlier than value iteration.\n",
    "\n",
    "To change my code in part c I would have to modify the internal loop over states and it's check to see if the policy's action matches the best action to check to see if the expected utility of the tile changed."
   ]
  },
  {
   "cell_type": "markdown",
   "metadata": {},
   "source": [
    "#### Part F\n",
    "\n",
    "Code up a **Q-learning** agent/algorithm to learn how to land the drone. You can do this however you like, as long as you use the MDP class structure defined above.  \n",
    "\n",
    "Your code should include some kind of a wrapper to run many trials to train the agent and learn the Q values.  You also do not need to have a separate function for the actual \"agent\"; your code can just be a \"for\" loop within which you are refining your estimate of the Q values.\n",
    "\n",
    "From each training trial, save the cumulative discounted reward (utility) over the course of that episode. That is, add up all of $\\gamma^t R(s_t)$ where the drone is in state $s_t$ during time step $t$, for the entire sequence. We refer to this as \"cumulative reward\" because we usually refer to \"utility\" as the utility *under an optimal policy*.\n",
    "\n",
    "Some guidelines:\n",
    "* The drone should initialize in a random non-terminal state for each new training episode.\n",
    "* The training episodes should be limited to 50 time steps, even if the drone has not yet landed. If the drone lands (in a terminal state), the training episode is over.\n",
    "* You may use whatever learning rate $\\alpha$ you decide is appropriate, and gives good results.\n",
    "* There are many forms of Q-learning. You can use whatever you would like, subject to the reliability targets below.\n",
    "* Your code should return:\n",
    "  * The learned Q values associated with each state-action pair.\n",
    "  * The cumulative reward for each training trial. \n",
    "  * Anything else that might be useful in the ensuing analysis."
   ]
  },
  {
   "cell_type": "code",
   "execution_count": 3,
   "metadata": {},
   "outputs": [],
   "source": [
    "# Solution:\n",
    "\n"
   ]
  },
  {
   "cell_type": "markdown",
   "metadata": {},
   "source": [
    "#### Part G\n",
    "\n",
    "Initialize the $L=10$ environment (so that the landing pad is at $(5,5,0)$). Run some number of training trials to train the drone.\n",
    "\n",
    "**How do I know if my drone is learned enough?**  If you take the mean cumulative reward across the last 5000 training trials, it should be around 0.80. This means at least about 10,000 (but probably more) training episodes will be necessary. It will take a few seconds on your computer, so start small to test your code.\n",
    "\n",
    "**Then:** Compute block means of cumulative reward from all of your training trials. Use blocks of 500 training trials. This means you need to create some kind of array-like structure such that its first element is the mean of the first 500 trials' cumulative rewards; its second element is the mean of the 501-1000th trials' cumulative rewards; and so on. Make a plot of the block mean rewards as the training progresses. It should increase from about -0.5 initially to somewhere around +0.8.\n",
    "\n",
    "**And:** Print to the screen the mean of the last 5000 trials' cumulative rewards, to verify that it is indeed about 0.80."
   ]
  },
  {
   "cell_type": "code",
   "execution_count": 1,
   "metadata": {},
   "outputs": [],
   "source": [
    "# Solution:\n"
   ]
  },
  {
   "cell_type": "markdown",
   "metadata": {},
   "source": [
    "#### Part H\n",
    "\n",
    "**Question 1:** Why does the cumulative reward start off around -0.5 at the beginning of the training?\n",
    "\n",
    "**Question 2:** Why will it be difficult for us to train the drone to reliably obtain rewards much greater than about 0.8?"
   ]
  },
  {
   "cell_type": "markdown",
   "metadata": {},
   "source": [
    "**Your answer here:**\n",
    "\n"
   ]
  },
  {
   "cell_type": "code",
   "execution_count": null,
   "metadata": {},
   "outputs": [],
   "source": []
  }
 ],
 "metadata": {
  "kernelspec": {
   "display_name": "Python 3.10.7 64-bit",
   "language": "python",
   "name": "python3"
  },
  "language_info": {
   "codemirror_mode": {
    "name": "ipython",
    "version": 3
   },
   "file_extension": ".py",
   "mimetype": "text/x-python",
   "name": "python",
   "nbconvert_exporter": "python",
   "pygments_lexer": "ipython3",
   "version": "3.10.7"
  },
  "vscode": {
   "interpreter": {
    "hash": "9baa21103835e55c3546ef35c7fb69eb0b077c590c874f19ce38c45754ebbf89"
   }
  }
 },
 "nbformat": 4,
 "nbformat_minor": 2
}
