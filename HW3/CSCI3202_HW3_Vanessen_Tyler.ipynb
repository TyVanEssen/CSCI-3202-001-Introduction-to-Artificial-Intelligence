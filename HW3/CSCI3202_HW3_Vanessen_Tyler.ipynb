{
 "cells": [
  {
   "cell_type": "markdown",
   "metadata": {},
   "source": [
    "---\n",
    "\n",
    "# CSCI 3202, Fall 2022\n",
    "# Homework 3\n",
    "# Due: Friday September 16, 2022 at 6:00 PM\n",
    "\n",
    "### Note: There will be an extra-credit portion to this assigment posted on Tuesday that will cover Q-Learning. \n",
    "<br> \n",
    "\n",
    "### Your name: Ty VanEssen\n",
    "\n",
    "<br> "
   ]
  },
  {
   "cell_type": "markdown",
   "metadata": {},
   "source": [
    "---\n",
    "\n",
    "There is no coding in this assignment. Type your answers in a Markdown cell using Latex formatting commands. If you're unfamiliar with Latex, it's used for formatting equations and other mathematical content. Here are a few examples that you might find useful.\n",
    "### Displaying an equation:\n",
    "$$P(a | b ) = 0.5$$\n",
    "### Displaying a fraction:\n",
    "$$ \\frac{a}{b}$$\n",
    "### Nested fractions:\n",
    "$$ \\frac{a}{\\frac{c}{b}}$$\n",
    "### Adding fractions:\n",
    "$$ \\frac{a}{b} + \\frac{d}{c}$$\n",
    "\n",
    "When you type your answers for each of the questions in this assignment, we need to see that you know how to set up the problem, including values assigned to individual components of the problem. We don't need to see every step of your calculations, just your final computed answer.\n",
    "\n",
    "For more information about how to use Latex, here is a great reference: https://ashki23.github.io/markdown-latex.html"
   ]
  },
  {
   "cell_type": "markdown",
   "metadata": {},
   "source": [
    "### 1. Playing Card Probabilities\n",
    "\n",
    "Consider a standard deck of playing cards and answer the following questions:"
   ]
  },
  {
   "cell_type": "markdown",
   "metadata": {},
   "source": [
    "### a. What is the probability of drawing a Jack of any suit?"
   ]
  },
  {
   "cell_type": "markdown",
   "metadata": {},
   "source": [
    "4 jacks in 52 cards, 4/52 => 1/13"
   ]
  },
  {
   "cell_type": "markdown",
   "metadata": {},
   "source": [
    "### b. What is the probability of drawing a card that is of a black suit?"
   ]
  },
  {
   "cell_type": "markdown",
   "metadata": {},
   "source": [
    "2 of 4 suits are black. The probability of drawing one is 1/2"
   ]
  },
  {
   "cell_type": "markdown",
   "metadata": {},
   "source": [
    "### c. What is the probability of drawing a Jack OR a card of a black suit?"
   ]
  },
  {
   "cell_type": "markdown",
   "metadata": {},
   "source": [
    "$P(Jack \\cup Black) = P(Jack) + P(Black) - P(Jack \\cap Black) = 1/13 + 1/2 - 1/26$\n"
   ]
  },
  {
   "cell_type": "markdown",
   "metadata": {},
   "source": [
    "### d. Describe in your own words what a joint probability is."
   ]
  },
  {
   "cell_type": "markdown",
   "metadata": {},
   "source": [
    "Joint probability is the odds of two or more random variables occuring at the same time. Its the AND probability."
   ]
  },
  {
   "cell_type": "markdown",
   "metadata": {},
   "source": [
    "### 2. Rolling Dice\n",
    "\n",
    "Consider two die with 6 equally weighted sides."
   ]
  },
  {
   "cell_type": "markdown",
   "metadata": {},
   "source": [
    "### a. What is the probability of a dice roll summing to 7?"
   ]
  },
  {
   "cell_type": "markdown",
   "metadata": {},
   "source": [
    "We consider what ways can a dice roll sum to 7. 1+6, 2+5, 3+4, 4+3, 5+2, 6+1. It can happen 6 ways. The sample space is 6*6=36. Thus the probability is 6/36 => 1/6.\n"
   ]
  },
  {
   "cell_type": "markdown",
   "metadata": {},
   "source": [
    "### b. What is the probability of a dice roll summing to an even number 10 times in a row?"
   ]
  },
  {
   "cell_type": "markdown",
   "metadata": {},
   "source": [
    "First we consider the odds of a dice roll summing to an even number $P(even)$, this only happens with 2 dice when both are odd or both are even. So $P(same) = \\frac{1}{2}^2$, $P(even) = 2*P(same) = 2 * 1/4 = 1/2$"
   ]
  },
  {
   "cell_type": "markdown",
   "metadata": {},
   "source": [
    "### c. Let's say that you roll one dice at a time. Your first die comes up as an even number. What is the probability that your dice will sum to 7 after you roll the second die?"
   ]
  },
  {
   "cell_type": "markdown",
   "metadata": {},
   "source": [
    "$ P(7 | Even) = P(Even | 7) * P(7)/P(Even) = 1/2 * \\frac{1/6}{1/2} = 1/6$"
   ]
  },
  {
   "cell_type": "markdown",
   "metadata": {},
   "source": [
    "### 3. Conditional Probability\n",
    "\n",
    "A team of data scientists have been working on the very important task of training a classification model to predict whether an item of clothing is fashionable. They are collaborating with a team of fashion experts who provide the ground truth label for the training data set: they tell the scientists which clothing is fashionable. There are a total of 1822 photos of clothing in the data set, of which 309 are fashionable. The machine learning system correctly predicted 197 items of clothing as fashionable and 1491 items of clothing as unfashionable. Unfortunately, the system was imperfect, and incorrectly classified 22 items of unfashionable clothing as fashionable, and 112 items fashionable items as unfashionable. \n",
    "\n",
    "\n",
    "|                       | True_Fashion | True_Unfashion |\n",
    "| -----------           | -----------  | -----------    |\n",
    "| <b>Pred_Fashion</b>   | 197          | 22             |\n",
    "| <b>Pred_Unfashion</b> | 112          | 1491           |\n",
    "| <b>Total</b>          | 309          | 1513           |"
   ]
  },
  {
   "cell_type": "markdown",
   "metadata": {
    "tags": []
   },
   "source": [
    "#### (a)\n",
    "If a photo is actually fashionable, what is the chance the ML classifier correctly identified the photo as being fashionable?"
   ]
  },
  {
   "cell_type": "markdown",
   "metadata": {},
   "source": [
    "$P( LabeledF | F) = P(LabeledF \\cap F) / P(F) = \\frac{197}{1822} / \\frac{309}{1822} = \\frac{197}{309} \\approx 0.64$"
   ]
  },
  {
   "cell_type": "markdown",
   "metadata": {},
   "source": [
    "#### (b)\n",
    "We sample a photo from the data set and learn the ML algorithm predicted this photo was not fashionable. What is the probability that it was incorrect and the photo is actually fashionable?"
   ]
  },
  {
   "cell_type": "markdown",
   "metadata": {},
   "source": [
    "$P(F|LabeledU) = P(F \\cap LabeledU) / P(LabeledU) = \\frac{112}{1822} / \\frac{1603}{1822} = \\frac{112}{1603} = \\frac{16}{229}$"
   ]
  },
  {
   "cell_type": "markdown",
   "metadata": {},
   "source": [
    "#### (c)\n",
    "What is the difference between a <i>joint probability</i> and a <i>marginal probability</i>?"
   ]
  },
  {
   "cell_type": "markdown",
   "metadata": {},
   "source": [
    "Joint probability is the odds of multiple events happening at the same time, marginal probability is the odds of one event happening regardless of any other events."
   ]
  },
  {
   "cell_type": "markdown",
   "metadata": {},
   "source": [
    "#### (d)\n",
    "What is the probability that the machine learning system predicted that an item of clothing was fashionable? Is this a joint or a marginal probability?"
   ]
  },
  {
   "cell_type": "markdown",
   "metadata": {},
   "source": [
    "$\\sum_{Y = F, U} P(LabeledF| Reality = Y) = P(LabeledF| F) + P(LabeledF | U) = P(LabeledF) = \\frac{219}{1822}$\n",
    "This is marginal probability, we see this since we are computing the odds of one random variable under all cases of the other random variables."
   ]
  },
  {
   "cell_type": "markdown",
   "metadata": {},
   "source": [
    "### 4. Bayes' Rule"
   ]
  },
  {
   "cell_type": "markdown",
   "metadata": {},
   "source": [
    "### (a). \n",
    "There are two boxes. Box 1 contains three red and five white balls. Box 2 contains two red and five white balls. A box is chosen at random: P(box=1) = P(box=2) = 0.5 and a ball chosen from this box turns out to be red. What is the probability that the red ball came from box 1? (i.e., P(box=1 | ball=red)=???)"
   ]
  },
  {
   "cell_type": "markdown",
   "metadata": {},
   "source": [
    "$P(Box1 | Red) = P(Red | Box1) * \\frac{P(Box1)}{P(Red)} = \\frac{3}{8} * \\frac{0.5}{1/3} = \\frac{9}{16}$"
   ]
  },
  {
   "cell_type": "markdown",
   "metadata": {},
   "source": [
    "### (b).\n",
    "\n",
    "Two balls are placed in a box as follows: A fair coin is tossed and a white ball is placed in the box if a heads occurs, otherwise a red ball is placed in the box. The coin is tossed again and a red ball is placed in the box if a tails occurs, otherwise a white ball is placed in the box. Balls are drawn from the box three times in succession (always replacing the drawn ball back in the box). It is found that on all three occasions a red ball is drawn. What is the probability that both balls in the box are red?"
   ]
  },
  {
   "cell_type": "markdown",
   "metadata": {},
   "source": [
    "$$\n",
    "\\begin{align*}\n",
    "P(BothRed | 3Red) &= P(3Red | BothRed) * \\frac{P(BothRed)}{P(3Red)} \\\\\n",
    "&= 1 * \\frac{\\frac{1}{2}^2}{P(3Red|BothRed)P(BothRed) + 2P(3Red|OneOfEach)P(OneOfEach) + P(3Red | BothWhite)P(BothWhite)} \\\\\n",
    "&= \\frac{1/4}{1/4 + 2/2 * P(3Red|OneOfEach) + 0 * 1/4} \\\\\n",
    "&= \\frac{1/4}{1/4 + \\frac{1}{2}^3} \\\\\n",
    "P(BothRed | 3Red) &= \\frac{1/4}{1/4 + 1/8} \\\\ \n",
    "P(BothRed | 3Red) &= \\frac{2}{3} \\\\ \n",
    "\\end{align*}\n",
    "$$"
   ]
  },
  {
   "cell_type": "markdown",
   "metadata": {},
   "source": [
    "### (c).\n",
    "A secret government agency has developed a scanner that determines whether a person is an alien imposter. The scanner detects alien imposters with 95% reliability. However, 1% of the time the test returns a false positive for an upstanding citizen. The alien imposters are very dangerous, but also quite rare, with a prevalence in the population of only 0.1%. Upon a tip from an informant, the agency has administered the scanner to a suspicious person. \n",
    "\n",
    "#### i. \n",
    "Use the *Law of Total Probability* to calculate the probability that the suspicious person will test positive.\n",
    "\n",
    "#### ii.\n",
    "What is the probability that the person is actually an alien imposter given that they do test positive?"
   ]
  },
  {
   "cell_type": "markdown",
   "metadata": {},
   "source": [
    "### i.\n",
    " $P(TestPositive) = P(TestPositive | Ailen)P(Alien) + P(TestPositive | Human)P(Human) = 0.95 * 0.001 + 0.01 * .999 = 0.01094 = 1.094\\% $\n",
    "### ii.\n",
    " $P(Ailen | TestPositive) = P(TestPositive | Ailen) * \\frac{P(Ailen)}{P(TestPositive)} = .95 * \\frac{.001}{.01094} = 0.08684 = 8.684\\%$\n"
   ]
  },
  {
   "cell_type": "markdown",
   "metadata": {},
   "source": []
  }
 ],
 "metadata": {
  "kernelspec": {
   "display_name": "Python 3.10.7 64-bit (microsoft store)",
   "language": "python",
   "name": "python3"
  },
  "language_info": {
   "codemirror_mode": {
    "name": "ipython",
    "version": 3
   },
   "file_extension": ".py",
   "mimetype": "text/x-python",
   "name": "python",
   "nbconvert_exporter": "python",
   "pygments_lexer": "ipython3",
   "version": "3.10.7"
  },
  "vscode": {
   "interpreter": {
    "hash": "4e2c0ff188d094666ebdbc8ba7bde2b30a57e6d0b11fdf6684689a936a56885b"
   }
  }
 },
 "nbformat": 4,
 "nbformat_minor": 4
}
